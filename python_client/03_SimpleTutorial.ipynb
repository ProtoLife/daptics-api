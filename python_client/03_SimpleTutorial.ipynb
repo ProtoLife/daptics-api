{
 "cells": [
  {
   "cell_type": "markdown",
   "metadata": {},
   "source": [
    "# DapticsClient - Introduction <a class=\"tocSkip\">\n",
    "\n",
    "This notebook contains an interactive introduction to the Python DapticsClient class,\n",
    "a simplified interface for accessing the Daptics GraphQL API for the optimization of\n",
    "experimental design.\n",
    "\n",
    "Documentation for using the DapticsClient class (implemented in the daptics_client.py\n",
    "file in this folder) is included as comment lines in the interactive Python cells of\n",
    "this notebook.\n",
    "\n",
    "For additional help or information, please visit or contact Daptics.\n",
    "\n",
    "On the web at https://daptics.ai\n",
    "By email at support@daptics.ai\n",
    "\n",
    "Daptics API Version 0.12.0  \n",
    "Copyright (c) 2020 Daptics Inc.\n",
    "\n",
    "Permission is hereby granted, free of charge, to any person obtaining a copy of this software and associated documentation files (the \"Software\"), the rights to use, copy, modify, merge, publish, and/or distribute, copies of the Software, and to permit persons to whom the Software is furnished to do so, subject to the following conditions:\n",
    "\n",
    "You do not have the right to sub-license or sell copies of the Software.\n",
    "\n",
    "The above copyright notice and this permission notice shall be included in all copies or substantial portions of the Software.\n",
    "\n",
    "THE SOFTWARE IS PROVIDED \"AS IS\", WITHOUT WARRANTY OF ANY KIND, EXPRESS OR IMPLIED, INCLUDING BUT NOT LIMITED TO THE WARRANTIES OF MERCHANTABILITY, FITNESS FOR A PARTICULAR PURPOSE AND NONINFRINGEMENT. IN NO EVENT SHALL THE AUTHORS OR COPYRIGHT HOLDERS BE LIABLE FOR ANY CLAIM, DAMAGES OR OTHER LIABILITY, WHETHER IN AN ACTION OF CONTRACT, TORT OR OTHERWISE, ARISING FROM, OUT OF OR IN CONNECTION WITH THE SOFTWARE OR THE USE OR OTHER DEALINGS IN THE SOFTWARE."
   ]
  },
  {
   "cell_type": "markdown",
   "metadata": {},
   "source": [
    "# Connect and start a session"
   ]
  },
  {
   "cell_type": "markdown",
   "metadata": {},
   "source": [
    "## Step 1. Create a DapticsClient object and connect to the API server. <a class=\"tocSkip\">\n",
    "\n",
    "Before running this project, please make sure that your Jupyter Python environment supports Python 3, and has these required packages installed:\n",
    "\n",
    "* chardet\n",
    "* urllib3\n",
    "* requests\n",
    "* gql\n",
    "* async_timeout\n",
    "* websockets\n",
    "\n",
    "You will also need a validated user account on the Daptics API server.  You can create an account by [registering](https:daptics.ai/register) at https://daptics.ai\n",
    "\n",
    "See the 01_README.ipynb notebook in this folder for more information.\n",
    "\n",
    "The following cell creates a DapticsClient object and connect to the API server.\n",
    "The client object constructor takes two optional arguments: either a URL for the\n",
    "server you wish to use (scheme, host and port only), or the path to a JSON configuration\n",
    "file. If both arguments are omitted, configuration will be read from environment\n",
    "variables.\n",
    "\n",
    "For information on the format of the JSON configuration file, and the configuration\n",
    "environment variables, see the documentation  in the daptics_client.py file."
   ]
  },
  {
   "cell_type": "code",
   "execution_count": null,
   "metadata": {},
   "outputs": [],
   "source": [
    "# Import classes from the daptics_client module\n",
    "# Requirements are Python 3, and the `gql` and `requests` libraries\n",
    "from daptics_client import DapticsClient, DapticsTaskType, DapticsExperimentsType\n",
    "from datetime import datetime\n",
    "from time import sleep\n",
    "\n",
    "# Create a client object using the development test API server URL.\n",
    "api_host = 'http://localhost:4040'\n",
    "daptics = DapticsClient(api_host)\n",
    "\n",
    "# Show the (default) runtime options used by the client object\n",
    "print(\"Client options: \", daptics.options)\n",
    "\n",
    "# The `connect` method will attempt to connect to the API server and\n",
    "# obtain the GraphQL schema.\n",
    "daptics.connect()"
   ]
  },
  {
   "cell_type": "markdown",
   "metadata": {},
   "source": [
    "__Notes:__\n",
    "\n",
    "1. After creating a DapticsClient object, you can set options that affect\n",
    "how the client functions. If you use the default options, it is your responsibility\n",
    "to request each design generation. If you would like the design to be generated\n",
    "automatically each time you submit experiments, you can set the `auto_generate_next_design`\n",
    "option to `True`.\n",
    "2. The default options also make it your responsibility to poll or wait\n",
    "on asynchronous operations. If you would like to have the client do the waiting\n",
    "for you automatically, you can set the `auto_task_timeout` option to a positive number,\n",
    "representing the maximum number of seconds to wait for.\n",
    "3. After connecting to the API server, the `daptics` object should have a `gql` attribute.\n",
    "You can look at the data stored in the `gql` attribute by printing `daptics.gql.__dict__`.\n",
    "In this data, you can see that the gql library has introspected all the GraphQL type,\n",
    "query and mutation information exposed by the API."
   ]
  },
  {
   "cell_type": "markdown",
   "metadata": {},
   "source": [
    "## Step 2. Log in to the API server to obtain an access token. <a class=\"tocSkip\">\n",
    "\n",
    "The `login` method takes two string arguments, the user's `email` and `password`.\n",
    "\n",
    "__Notes:__\n",
    "\n",
    "1. You can also specify login credentials in a JSON configuration file, or read them from\n",
    "environment variables--see the documentation  in the daptics_client.py file.\n",
    "2. Use the real email address and password you used when you created\n",
    "your account on the daptics.ai website."
   ]
  },
  {
   "cell_type": "code",
   "execution_count": null,
   "metadata": {},
   "outputs": [],
   "source": [
    "email = 'YOUR_EMAIL@YOUR_DOMAIN'\n",
    "password = 'YOUR_PASSWORD'\n",
    "login_data = daptics.login(email, password)"
   ]
  },
  {
   "cell_type": "markdown",
   "metadata": {},
   "source": [
    "## Step 3. Create a daptics session on the server. <a class=\"tocSkip\">\n",
    "\n",
    "The `create_session` method takes two required arguments:\n",
    "* `name` - the name for the session (which must be unique for your account)\n",
    "* `description` - a short description\n",
    "\n",
    "The session will be created for the `userId` saved from the login method.\n",
    "\n",
    "Note: *each session name must be a new, unique name*. So, every time the following cellis executed, the session name must be changed."
   ]
  },
  {
   "cell_type": "code",
   "execution_count": null,
   "metadata": {},
   "outputs": [],
   "source": [
    "name = datetime.now().strftime('Practice Session %Y%m%d-%H%M%S')\n",
    "description = 'This is a practice session'\n",
    "daptics.create_session(name, description);"
   ]
  },
  {
   "cell_type": "markdown",
   "metadata": {},
   "source": [
    "__Note__: if you want to start a new session, you may execute the cell above, changing the name. It is not necessary to restart the Python kernel."
   ]
  },
  {
   "cell_type": "markdown",
   "metadata": {},
   "source": [
    "# Experimental Space Definition"
   ]
  },
  {
   "cell_type": "markdown",
   "metadata": {},
   "source": [
    "## Step 4. Specify the _Experimental Space Definition_.  <a class=\"tocSkip\">\n",
    "\n",
    "The _Experimental Space Definition_ (ESD) may be defined by a\n",
    "CSV file that defines the names and constraints for each parameter. There are currently two different types of experiments, `mixture` and `factorial` (see tutorial notebook `02_Terminology`):\n",
    "\n",
    "For `mixture` experiments, each row has exactly four columns:\n",
    "* the parameter name (a string)\n",
    "* the parameter type, set to `unit` for mixture experiments\n",
    "* the minimum number of units for the parameter (an integer)\n",
    "* the maximum number of units for the parameter (an integer)\n",
    "\n",
    "For `factorial` experiments, each row has at least four columns,\n",
    "but can have many more:\n",
    "* the parameter name (a string)\n",
    "* the parameter type, set to either `numerical` or `categorical`\n",
    "* the first possible value for the parameter (a number)\n",
    "* the second possible value for the parameter (a different number)\n",
    "* ...etc\n",
    "\n",
    "Each variable may have up to 20 values specified.\n",
    "\n",
    "You should add blank padding columns for rows that have\n",
    "fewer parameter values, so that the CSV file has the same number of\n",
    "columns on each row.\n",
    "\n",
    "Your ESD file should be placed in the directory that\n",
    "the Jupyter notebook server process was started. The current location of this tutorial is\n",
    "`../daptics-api/python_client/`; the tutorial file should appear in the `HOME` tab of the Jupyter notebook.\n",
    "\n",
    "### Please note: running this tutorial will be free of charge for any ESDs that fit in the Daptics [Free zone](https://daptics.ai/pdt_pricing).\n",
    "For this tutorial, we will use a free ESD, specified in the `esd-factorial-4x8.csv` file\n",
    "installed in `../daptics-api/python_client/`.\n",
    "To read your own ESD file, you would substitute your file name\n",
    "for `esd-factorial-4x8.csv`.\n",
    "The contents of the ESD file read as follows:\n"
   ]
  },
  {
   "cell_type": "code",
   "execution_count": null,
   "metadata": {},
   "outputs": [],
   "source": [
    "fname = 'esd-factorial-4x8.csv'\n",
    "with open(fname, 'r') as f:\n",
    "    print(f.read())"
   ]
  },
  {
   "cell_type": "markdown",
   "metadata": {},
   "source": [
    "## Step 5. Define the experimental space parameters for the session. <a class=\"tocSkip\">\n",
    "\n",
    "The `put_experimental_parameters_csv` method requires two\n",
    "arguments:\n",
    "* `params` - a dict of parameters that specify\n",
    "    * `'space'`: a dict to define the space type, either\n",
    "        * `{'type': 'factorial'}` or\n",
    "        * `{'type': 'mixture', 'totalunits' : N}`, where `N` is the total number of units that all the\n",
    "        mixture variables must sum to.\n",
    "    * `'populationSize'`: how many experiments will be designed for each generation, and\n",
    "    * `'replicates'`: how many replicates of an experiment will be performed\n",
    "    (Note: to perform each experiment in the design just once, `replicates` should be zero.)\n",
    "* `fname` - The path to the _Experimental Space Definition_ file discussed above."
   ]
  },
  {
   "cell_type": "code",
   "execution_count": null,
   "metadata": {
    "lines_to_end_of_cell_marker": 2
   },
   "outputs": [],
   "source": [
    "# Here is an example for a \"mixture\" space, which must include a\n",
    "# `totalUnits` number:\n",
    "#params = {\n",
    "#    'space': {\n",
    "#        'type': 'mixture',\n",
    "#        'totalUnits': 15\n",
    "#    },\n",
    "#    'populationSize': 30,\n",
    "#    'replicates': 2\n",
    "#}\n",
    "#fname = 'esd-mixture-5.csv'\n",
    "\n",
    "\n",
    "# OR:  here is an example for a \"factorial\" space, which doesn't need the\n",
    "# `totalUnits` parameter:\n",
    "params = {\n",
    "    'space': {\n",
    "        'type': 'factorial'\n",
    "    },\n",
    "    'populationSize': 30,\n",
    "    'replicates': 2\n",
    "}\n",
    "fname = 'esd-factorial-4x8.csv'\n",
    "\n",
    "# When we call this method, the session will validate our parameters\n",
    "# and if the validation succeeds, a potentially long-running process\n",
    "# to set up the exploration space will be started.\n",
    "task = daptics.put_experimental_parameters_csv(fname, params)"
   ]
  },
  {
   "cell_type": "markdown",
   "metadata": {},
   "source": [
    "## Step 6. Poll the task and process results. <a class=\"tocSkip\">\n",
    "\n",
    "Execution of the cell above launches an asynchronous task to validate the\n",
    "_Experimental Space Definition_ and set up the space.\n",
    "\n",
    "The first cell below will poll this task using the `poll_for_current_task` method.\n",
    "This call may be repeated, ruturning `'status': 'running'` while the task\n",
    "is still in progress.\n",
    "\n",
    "When the task is done (`'status': 'success'`), the results are then processed,\n",
    "and the task is removed from the queue. Subsequent calls to `poll_for_current_task`\n",
    "will result in an error because no task will be found.\n",
    "\n",
    "__Notes__:\n",
    "\n",
    "1. When the task's status changes to `'success'` in the session on the server,\n",
    "the results will not be collected or processed  *until `poll_for_current_task` is called*.\n",
    "2. You can also use the convenience method `wait_for_current_task` as illustrated\n",
    "in the second cell below. `wait_for_current_task` simply wraps the `poll_for_current_task`\n",
    "loop in a function, waiting for the task to finish, and returns the results (or errors)\n",
    "when the task's status changes, or raises a timeout error if a timeout value\n",
    "is provided."
   ]
  },
  {
   "cell_type": "code",
   "execution_count": null,
   "metadata": {},
   "outputs": [],
   "source": [
    "# Poll the task. Repeat until task disappears, when `status` is `success` (or `failure`).\n",
    "while True:\n",
    "    task, errors = daptics.poll_for_current_task()\n",
    "    if task['currentTask'] is not None:\n",
    "        status = task['currentTask']['status']\n",
    "        print('status = ', status)\n",
    "        if status == 'success':\n",
    "            print(task)\n",
    "            break\n",
    "        sleep(0.5)\n",
    "    else:\n",
    "        print(\"No current task found!\")\n",
    "        break"
   ]
  },
  {
   "cell_type": "code",
   "execution_count": null,
   "metadata": {},
   "outputs": [],
   "source": [
    "# OR-----------------\n",
    "\n",
    "# Run the polling for the task in a loop, optionally specifying a maximum number of\n",
    "# seconds to wait for a result.\n",
    "daptics.wait_for_current_task(timeout=20.0)"
   ]
  },
  {
   "cell_type": "markdown",
   "metadata": {},
   "source": [
    "## Step 7. Print session, save validated space. <a class=\"tocSkip\">\n",
    "\n",
    "If the _Experimental Space Definition_ was successfully validated, we may see it by printing out the current session state:"
   ]
  },
  {
   "cell_type": "code",
   "execution_count": null,
   "metadata": {},
   "outputs": [],
   "source": [
    "daptics.print()"
   ]
  },
  {
   "cell_type": "markdown",
   "metadata": {},
   "source": [
    "The validated _Experimental Space Definition_ object may be retrieved with the following call:"
   ]
  },
  {
   "cell_type": "code",
   "execution_count": null,
   "metadata": {},
   "outputs": [],
   "source": [
    "space = daptics.get_experimental_space()\n",
    "\n",
    "# Show all the experimental space parameters.\n",
    "print(space)"
   ]
  },
  {
   "cell_type": "markdown",
   "metadata": {},
   "source": [
    "and it may be exported to a CSV file (whose contents should be the same as the _Experimental Space Definition_ CSV file):"
   ]
  },
  {
   "cell_type": "code",
   "execution_count": null,
   "metadata": {},
   "outputs": [],
   "source": [
    "fname = 'validated_space.csv'\n",
    "\n",
    "# The export_csv method can be used to create a CSV file from any \"table\" element.\n",
    "daptics.export_csv(fname, space['table'])\n",
    "\n",
    "# Show the contents of the exported file.\n",
    "with open(fname, 'r') as f:\n",
    "    print(f.read())"
   ]
  },
  {
   "cell_type": "markdown",
   "metadata": {},
   "source": [
    "# Initial Experiments"
   ]
  },
  {
   "cell_type": "markdown",
   "metadata": {},
   "source": [
    "## Step 8. Optionally specify initial experiments. <a class=\"tocSkip\">\n",
    "\n",
    "Daptics modeling may be initialized with any available data from initial experiments done previously.  The data file for initial experiments must have a certain form: one row of header, followed by one row for each experiment.\n",
    "We illustrate two different ways to create initial experiments."
   ]
  },
  {
   "cell_type": "markdown",
   "metadata": {},
   "source": [
    "### Step 8a. Initialize with data read from a CSV file. <a class=\"tocSkip\">\n",
    "\n",
    "The CSV data file may be created with the appopriate\n",
    "column headers by using the `export_initial_experiments_template_csv` method:"
   ]
  },
  {
   "cell_type": "code",
   "execution_count": null,
   "metadata": {},
   "outputs": [],
   "source": [
    "fname = 'initial_experiments.csv'\n",
    "columns = daptics.export_initial_experiments_template_csv(fname)\n",
    "\n",
    "# Print out the column names (parameter names and `Response`).\n",
    "print(columns)\n",
    "\n",
    "# Let's verify the contents of the exported file. It should just\n",
    "# have one line listing the parameter names as well as a final column\n",
    "# named `Response`, separated by commas.\n",
    "#\n",
    "# param1,param2,param3,param4,Response\n",
    "\n",
    "with open(fname, 'r') as f:\n",
    "    print(f.read())"
   ]
  },
  {
   "cell_type": "markdown",
   "metadata": {},
   "source": [
    "Now that the file `initial_experiments.csv` has been created in the Jupyter Notebook home directory\n",
    "(i.e. the directory where the Jupyter Notebook server was launched), you can add experiment\n",
    "rows to the file, one row for each experiment, containing a value for each of the\n",
    "experimental variables (the specification of the experiment) followed by that experiment's response.\n",
    "\n",
    "You may also construct the initial experiments file from scratch,\n",
    "but **it must have the correct column names in the header row**, including the `Response`\n",
    "column."
   ]
  },
  {
   "cell_type": "markdown",
   "metadata": {},
   "source": [
    "### Step 8b. Initialize with random experiments and responses. <a class=\"tocSkip\">\n",
    "\n",
    "As an alternative to creating a CSV file of initial experiments,\n",
    "the following cell creates random experiments with random responses,\n",
    "just as an example for processing initial experiments."
   ]
  },
  {
   "cell_type": "code",
   "execution_count": null,
   "metadata": {},
   "outputs": [],
   "source": [
    "space = daptics.get_experimental_space()\n",
    "design = None\n",
    "num_extras = 20\n",
    "\n",
    "# The random_experiments_with_responses method creates\n",
    "# experiments. We set the design argument to None, because we don't have\n",
    "# a generated design yet, and set the num_extras argument to the number of\n",
    "# random experiments we would like to have generated.\n",
    "random_experiments = daptics.random_experiments_with_responses(space, design, num_extras)\n",
    "\n",
    "# Now let's save these to a file using the `export_csv` utility method.\n",
    "fname = 'initial_experiments.csv'\n",
    "task = daptics.export_csv(fname, random_experiments)\n",
    "\n",
    "# Show the contents of the file we just saved.\n",
    "with open(fname, 'r') as f:\n",
    "    print(f.read())"
   ]
  },
  {
   "cell_type": "markdown",
   "metadata": {},
   "source": [
    "## Step 9. Submit Initial Experiments. <a class=\"tocSkip\">\n",
    "\n",
    "If you have created a file of initial experiments by one of the two alternative\n",
    "methods (Step 8a or Step 8b), you must upload them to the server before\n",
    "the first experimental design can be generated.\n",
    "\n",
    "When submitting experiments, you must specify the type of experiments that\n",
    "are being sent to the server, in this case `DapticsExperimentsType.INITIAL_EXTRAS_ONLY`.\n",
    "\n",
    "If you do not have any initial experiments to include in the session, you\n",
    "may skip to Step 10."
   ]
  },
  {
   "cell_type": "code",
   "execution_count": null,
   "metadata": {},
   "outputs": [],
   "source": [
    "fname = 'initial_experiments.csv'\n",
    "daptics.put_experiments_csv(DapticsExperimentsType.INITIAL_EXTRAS_ONLY, fname)"
   ]
  },
  {
   "cell_type": "markdown",
   "metadata": {},
   "source": [
    "## Step 10. Generate the first design. <a class=\"tocSkip\">\n",
    "\n",
    "__Note__: This step could have been automated by setting the `auto_generate_next_design`\n",
    "option in the client object, in which case the previous call to `put_experiments_csv`\n",
    "would automatically start the design generation."
   ]
  },
  {
   "cell_type": "code",
   "execution_count": null,
   "metadata": {},
   "outputs": [],
   "source": [
    "# Generate a design, whether or not initial experiments were submitted.\n",
    "task = daptics.generate_design()"
   ]
  },
  {
   "cell_type": "markdown",
   "metadata": {},
   "source": [
    "## Step 11. Poll the task, print results <a class=\"tocSkip\">\n",
    "\n",
    "As in Step 6, the following call will poll the task launched in the previous cell\n",
    "to create the first design, and return when the results are available."
   ]
  },
  {
   "cell_type": "code",
   "execution_count": null,
   "metadata": {},
   "outputs": [],
   "source": [
    "# Run the polling for the task in a loop, optionally specifying a maximum number of\n",
    "# seconds to wait for a result.\n",
    "daptics.wait_for_current_task(timeout=20.0)"
   ]
  },
  {
   "cell_type": "markdown",
   "metadata": {},
   "source": [
    "In the following cell, when you print the state of the session,\n",
    "you should now see the Design printed after the Experimental Space Definition.  Note that the Design printed has no responses in the final column."
   ]
  },
  {
   "cell_type": "code",
   "execution_count": null,
   "metadata": {},
   "outputs": [],
   "source": [
    "daptics.print()"
   ]
  },
  {
   "cell_type": "markdown",
   "metadata": {},
   "source": [
    "# Process the experimental design"
   ]
  },
  {
   "cell_type": "markdown",
   "metadata": {},
   "source": [
    "## Step 11. Save the current design to a CSV file.  <a class=\"tocSkip\">\n",
    "Once the current generation design is created, save it to\n",
    "a CSV file. The `export_generated_design_csv` method saves the last generated design."
   ]
  },
  {
   "cell_type": "code",
   "execution_count": null,
   "metadata": {},
   "outputs": [],
   "source": [
    "# Create a file name for current generation, e.g. 'gen1_design.csv'\n",
    "fname = 'gen{}_design.csv'.format(daptics.gen)\n",
    "\n",
    "# Export the design\n",
    "design = daptics.export_generated_design_csv(fname)\n",
    "\n",
    "# Show the contents of the exported file, which will contain\n",
    "# the designed parameter values and a blank `Response` column\n",
    "# that we will fill in after running the designed experiments.\n",
    "print(\"Current design in file\", fname)\n",
    "with open(fname, 'r') as f:\n",
    "    print(f.read())\n",
    "\n",
    "# Show the design (in Python) as well.\n",
    "print(design)"
   ]
  },
  {
   "cell_type": "markdown",
   "metadata": {},
   "source": [
    "## Step 12. Specify experimental responses. <a class=\"tocSkip\">\n",
    "\n",
    "We illustrate two alternative ways to record the responses to the experiments that have\n",
    "been designed for you. Choose either Step 12a or 12b below."
   ]
  },
  {
   "cell_type": "markdown",
   "metadata": {},
   "source": [
    "### Step 12a. Specify your real experimental responses. <a class=\"tocSkip\">\n",
    "\n",
    "The previous cell has written the designed experiments to a file named\n",
    "`gen1_design.csv`.\n",
    "\n",
    "First copy that file to a new file named `gen1_experiments.csv`.\n",
    "Then, using a spreadsheet or a text editor,\n",
    "fill in a numerical (floating point) response value for each experiment row,\n",
    "in the last column of each row.\n",
    "\n",
    "After saving this file, return to this notebook to\n",
    "show the response file contents."
   ]
  },
  {
   "cell_type": "code",
   "execution_count": null,
   "metadata": {},
   "outputs": [],
   "source": [
    "fname = 'gen{}_experiments.csv'.format(daptics.gen)\n",
    "\n",
    "# Print them out\n",
    "print(\"Responses for current design in file\", fname)\n",
    "with open(fname, 'r') as f:\n",
    "    print(f.read())"
   ]
  },
  {
   "cell_type": "markdown",
   "metadata": {},
   "source": [
    "### Step 12b. Specify random responses. <a class=\"tocSkip\">\n",
    "Create random response values for the\n",
    "design we just generated using the client's\n",
    "`random_experiments_with_responses` method.\n",
    "\n",
    "We need to have the experimental space and the recently\n",
    "generated design for the call to `random_experiments_with_responses`.\n",
    "We do not want any extra experiments, so we pass `0` for the\n",
    "`num_extras` argument."
   ]
  },
  {
   "cell_type": "code",
   "execution_count": null,
   "metadata": {},
   "outputs": [],
   "source": [
    "space = daptics.get_experimental_space()\n",
    "design = daptics.get_generated_design()\n",
    "num_extras = 0\n",
    "\n",
    "# This time we must specify the design that we will be gnerating random responses for.\n",
    "random_experiments = daptics.random_experiments_with_responses(space, design, num_extras)"
   ]
  },
  {
   "cell_type": "markdown",
   "metadata": {},
   "source": [
    "Now let's save these to a file using the `export_csv` utility method."
   ]
  },
  {
   "cell_type": "code",
   "execution_count": null,
   "metadata": {},
   "outputs": [],
   "source": [
    "# E.g. gen1_experiments.csv\n",
    "fname = 'gen{}_experiments.csv'.format(daptics.gen)\n",
    "task = daptics.export_csv(fname, random_experiments)\n",
    "\n",
    "# Show the contents of the file we just saved.\n",
    "print(\"Random experiments in file\", fname)\n",
    "with open(fname, 'r') as f:\n",
    "    print(f.read())"
   ]
  },
  {
   "cell_type": "markdown",
   "metadata": {},
   "source": [
    "## Step 13. Submit these responses and automatically generate the next design. <a class=\"tocSkip\">\n",
    "\n",
    "Now we will upload these experiments to the session. This time we will set the runtime options\n",
    "`auto_generate_next_design` and `auto_task_timeout`, to save us a few steps.\n",
    "\n",
    "* Setting `auto_generate_next_design` to `True` will cause the client to immediately request\n",
    "the next generated design.\n",
    "\n",
    "* Setting `auto_task_timeout` to a postitive number will then wait on the design generation task\n",
    "to complete.\n",
    "\n",
    "__Note__: We must specify `DapticsExperimentsType.DESIGNED_WITH_OPTIONAL_EXTRAS` when submitting\n",
    "experiments for the current design."
   ]
  },
  {
   "cell_type": "code",
   "execution_count": null,
   "metadata": {},
   "outputs": [],
   "source": [
    "# Change the client's runtime options.\n",
    "daptics.options['auto_generate_next_design'] = True\n",
    "daptics.options['auto_task_timeout'] = 60.0\n",
    "\n",
    "# E.g. fname = 'gen1_experiments.csv'\n",
    "fname = 'gen{}_experiments.csv'.format(daptics.gen)\n",
    "\n",
    "# With the options set, this call will do three things:\n",
    "# 1. upload generation 1 responses\n",
    "# 2. request a generation 2 design (async task)\n",
    "# 3. wait until the task is complete\n",
    "result = daptics.put_experiments_csv(DapticsExperimentsType.DESIGNED_WITH_OPTIONAL_EXTRAS, fname)\n",
    "print(result)"
   ]
  },
  {
   "cell_type": "markdown",
   "metadata": {},
   "source": [
    "From this point on, you can repeat steps 11 through\n",
    "13 until you are satisfied with your experimental\n",
    "campaign, or until all the possible experimental\n",
    "parameter combinations have been exhausted."
   ]
  },
  {
   "cell_type": "markdown",
   "metadata": {},
   "source": [
    "# Fully automated loop\n",
    "The following loop illustrates how the execution of Steps 1–13 can be\n",
    "fully automated. This approach may be helpful, for example,\n",
    "if you generate your responses by means of simulations.\n",
    "\n",
    "Please note that Daptics client options `auto_generate_next_design` and `auto_task_timeout` (described in the following section) are set, for easy execution."
   ]
  },
  {
   "cell_type": "code",
   "execution_count": null,
   "metadata": {},
   "outputs": [],
   "source": [
    "from daptics_client import DapticsClient, DapticsExperimentsType\n",
    "from datetime import datetime\n",
    "\n",
    "###################################################################\n",
    "# Construct client object (Step 1)\n",
    "# Uncomment if it you didn't run the previous steps.\n",
    "# api_host = 'http://localhost:4040'\n",
    "daptics = DapticsClient(api_host)\n",
    "\n",
    "# Set up \"shortcut\" options to save time\n",
    "daptics.options['auto_generate_next_design'] = True  # generate next design automatically after put_experiments\n",
    "daptics.options['auto_task_timeout'] = -1   # wait for as long as it takes\n",
    "\n",
    "# Connect to API server (Step 1)\n",
    "daptics.connect()\n",
    "\n",
    "# Login (Step 2) \n",
    "# Uncomment if you didn't run the previous steps, and fill in correct information\n",
    "# email = 'YOUR_EMAIL@YOUR_DOMAIN'\n",
    "# password = 'YOUR_PASSWORD'\n",
    "daptics.login(email, password);\n",
    "\n",
    "# Start a session (Step 3)\n",
    "# Important: Session name must be changed each time this cell is executed.\n",
    "name = datetime.now().strftime('Loop Session %Y%m%d-%H%M%S')\n",
    "description = 'This is a full loop session'\n",
    "daptics.create_session(name, description)\n",
    "print(\"New session created\")\n",
    "\n",
    "###################################################################\n",
    "# Experimental space (Steps 4-7)\n",
    "params = {\n",
    "    'space': {\n",
    "        'type': 'factorial'\n",
    "    },\n",
    "    'populationSize': 30,\n",
    "    'replicates': 2\n",
    "}\n",
    "fname = 'esd-factorial-4x8.csv'\n",
    "# Save and validate the space\n",
    "# Note: Because `auto_task_timeout` is set, we don't need to poll for result\n",
    "task = daptics.put_experimental_parameters_csv(fname, params)\n",
    "print(\"Experimental space done\")\n",
    "\n",
    "###################################################################\n",
    "# Initial experiments (Steps 8-10)\n",
    "space = daptics.get_experimental_space()\n",
    "design = None\n",
    "num_extras = 20\n",
    "random_experiments = daptics.random_experiments_with_responses(space, design, num_extras)\n",
    "fname = 'initial_experiments.csv'\n",
    "daptics.export_csv(fname, random_experiments)\n",
    "task = daptics.put_experiments_csv(DapticsExperimentsType.INITIAL_EXTRAS_ONLY, fname)\n",
    "# Note: Because `auto_generate_next_design` is set, we don't need to call generate_design\n",
    "# Note: Because `auto_task_timeout` is set, we don't need to poll for result\n",
    "print(\"Initial experiments saved and generation 1 design done.\")\n",
    "\n",
    "# Save design in a file named for current generation, e.g. 'gen1_design.csv'\n",
    "fname = 'gen{}_design.csv'.format(daptics.gen)\n",
    "print(\"Saving design to\", fname)\n",
    "design = daptics.export_generated_design_csv(fname)\n",
    "\n",
    "#######################################################################\n",
    "# Loop: (Steps 12-13, repeated for 5 generations)\n",
    "for n in range(5):\n",
    "    ###################################################################\n",
    "    # Fill design with random responses\n",
    "    space = daptics.get_experimental_space()\n",
    "    design = daptics.get_generated_design()\n",
    "    num_extras = 0\n",
    "    # Normally, you would fill the design with your experimental responses here.\n",
    "    # For this tutorial we execute the following line\n",
    "    # providing random numbers as a surrogate for the experimental responses.\n",
    "    random_experiments = daptics.random_experiments_with_responses(space, design, num_extras)\n",
    "\n",
    "    # Save the random experiments to a file, e.g. gen1_experimnts_csv.\n",
    "    fname = 'gen{}_experiments.csv'.format(daptics.gen)\n",
    "    task = daptics.export_csv(fname, random_experiments)\n",
    "\n",
    "    # Upload responses and automatically generate next design\n",
    "    result = daptics.put_experiments_csv(DapticsExperimentsType.DESIGNED_WITH_OPTIONAL_EXTRAS, fname)\n",
    "    print(\"Done with design for generation\", daptics.gen)\n",
    "\n",
    "    # Save design in a file named for current generation, e.g. 'gen1_design.csv'\n",
    "    fname = 'gen{}_design.csv'.format(daptics.gen)\n",
    "    print(\"Saving design to\", fname)\n",
    "    design = daptics.export_generated_design_csv(fname)\n",
    "print(\"Loop completed\")"
   ]
  },
  {
   "cell_type": "markdown",
   "metadata": {},
   "source": [
    "# Client options\n",
    "\n",
    "\n",
    "After initializing a `dapics` object, set client options with calls like `daptics.options['option'] = value`.  The possible options are:\n",
    "\n",
    "**1. auto_export_path option**\n",
    "\n",
    "default:  `daptics.options['auto_export_path'] = None`\n",
    "\n",
    "If you set the `auto_export_path` client option to an exisiting directory in the file system,\n",
    "the validated space table, any submitted experiments, and any generated designs will be\n",
    "save automatically, without your having to use the `export_csv` or `export_generated_design_csv`\n",
    "methods.\n",
    "\n",
    "**2. auto_generate_next_design option**\n",
    "\n",
    "default:  `daptics.options['auto_generate_next_design'] = False`\n",
    "\n",
    "If true, execute `generate_design()` automatically after `put_experiments()` or `put_experiments_csv()`.\n",
    "\n",
    "**3. auto_task_timeout option**\n",
    "\n",
    "default `daptics.options['auto_task_timeout'] = None`\n",
    "\n",
    "Possible values are:\n",
    "\n",
    "* N>0: (integer) number of seconds to wait for task to finsish (blocking, printing polling messages)\n",
    "* N<0: poll forever\n",
    "* None: no polling, must call  `wait_for_current_task()` or `poll_for_current_task()` (in a loop) to ensure task is finished.\n"
   ]
  },
  {
   "cell_type": "markdown",
   "metadata": {},
   "source": [
    "# Calls that generate tasks"
   ]
  },
  {
   "cell_type": "markdown",
   "metadata": {},
   "source": [
    "1. `put_experimental_parameters()` (or its csv variant, `put_experimental_parameters_csv()`) creates a \"space\" task\n",
    "2. `generate_design()` creates a \"generate\" task\n",
    "\n",
    "These should be followed by `wait_for_current_task()` or `poll_for_current_task()`"
   ]
  }
 ],
 "metadata": {
  "jupytext": {
   "encoding": "# -*- coding: utf-8 -*-",
   "formats": "ipynb,python//py:light"
  },
  "kernelspec": {
   "display_name": "Python 3",
   "language": "python",
   "name": "python3"
  }
 },
 "nbformat": 4,
 "nbformat_minor": 4
}
