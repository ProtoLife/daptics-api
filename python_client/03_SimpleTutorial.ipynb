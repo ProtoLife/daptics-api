{
 "cells": [
  {
   "cell_type": "markdown",
   "metadata": {},
   "source": [
    "# DapticsClient - Introduction\n",
    "\n",
    "This notebook contains an interactive introduction to the Python DapticsClient class,\n",
    "a simplified interface for accessing the Daptics GraphQL API for the optimization of\n",
    "experimental design.\n",
    "\n",
    "Documentation for using the DapticsClient class (implemented in the daptics_client.py\n",
    "file in this folder) is included as comment lines in the interactive Python cells of\n",
    "this notebook.\n",
    "\n",
    "For additional help or information, please visit or contact Daptics.\n",
    "\n",
    "On the web at https://daptics.ai\n",
    "By email at support@daptics.ai\n",
    "\n",
    "Daptics API Version 0.7.3  \n",
    "Copyright (c) 2019 Daptics Inc.\n",
    "\n",
    "Permission is hereby granted, free of charge, to any person obtaining a copy of this software and associated documentation files (the \"Software\"), the rights to use, copy, modify, merge, publish, and/or distribute, copies of the Software, and to permit persons to whom the Software is furnished to do so, subject to the following conditions:\n",
    "\n",
    "You do not have the right to sub-license or sell copies of the Software.\n",
    "\n",
    "The above copyright notice and this permission notice shall be included in all copies or substantial portions of the Software.\n",
    "\n",
    "THE SOFTWARE IS PROVIDED \"AS IS\", WITHOUT WARRANTY OF ANY KIND, EXPRESS OR IMPLIED, INCLUDING BUT NOT LIMITED TO THE WARRANTIES OF MERCHANTABILITY, FITNESS FOR A PARTICULAR PURPOSE AND NONINFRINGEMENT. IN NO EVENT SHALL THE AUTHORS OR COPYRIGHT HOLDERS BE LIABLE FOR ANY CLAIM, DAMAGES OR OTHER LIABILITY, WHETHER IN AN ACTION OF CONTRACT, TORT OR OTHERWISE, ARISING FROM, OUT OF OR IN CONNECTION WITH THE SOFTWARE OR THE USE OR OTHER DEALINGS IN THE SOFTWARE."
   ]
  },
  {
   "cell_type": "markdown",
   "metadata": {},
   "source": [
    "# Connect and start a session"
   ]
  },
  {
   "cell_type": "markdown",
   "metadata": {},
   "source": [
    "## Step 1. Create a DapticsClient object and connect to the API server.\n",
    "\n",
    "Before running this project, please make sure that your Jupyter Python environment supports Python 3, and has these required packages installed:\n",
    "*   chardet\n",
    "*   urllib3\n",
    "*   requests\n",
    "*   gql\n",
    "\n",
    "You will also need a validated user account on the Daptics API server.  You can create an account by [registering](https:daptics.ai/register) at https://daptics.ai\n",
    "\n",
    "See the 01_README.ipynb notebook in this folder for more information.\n",
    "\n",
    "The following cell creates a DapticsClient object and connect to the API server.\n"
   ]
  },
  {
   "cell_type": "code",
   "execution_count": null,
   "metadata": {},
   "outputs": [],
   "source": [
    "# Import the daptics_client module\n",
    "# Requirements are Python 3, and the `gql` and `requests` libraries\n",
    "from daptics_client import DapticsClient\n",
    "from time import sleep\n",
    "\n",
    "# Create a client object and try to connect to the daptics API server.\n",
    "# The client constructor takes a URL argument that specifies the scheme,\n",
    "# host and port number of the API server.\n",
    "\n",
    "# Note: do not specify the path on the server; the DapticsClient object\n",
    "# will take care of that for us.\n",
    "api_host = 'http://inertia.protolife.com:8080'\n",
    "daptics = DapticsClient(api_host)\n",
    "\n",
    "# The `connect` method will attempt to connect to the /api path on the\n",
    "# API server and obtain the GraphQL schema.\n",
    "daptics.connect()"
   ]
  },
  {
   "cell_type": "markdown",
   "metadata": {},
   "source": [
    "__Details:__  after connecting, the daptics object should have a `gql` attribute.\n",
    "You can look at the data stored in the `gql` attribute by printing `daptics.gql.__dict__`.\n",
    "In this data, you can see that the gql library has introspected all the GraphQL type,\n",
    "query and mutation information exposed by the API."
   ]
  },
  {
   "cell_type": "markdown",
   "metadata": {},
   "source": [
    "## Step 2. Log in to the API server to obtain an access token.\n",
    "\n",
    "The `login` method takes two string arguments, the user's `email` and `password`.\n",
    "\n",
    "__Note:__ Use the real email address and password you used when you created\n",
    "your account on the daptics.ai website."
   ]
  },
  {
   "cell_type": "code",
   "execution_count": null,
   "metadata": {},
   "outputs": [],
   "source": [
    "email = 'YOUR_EMAIL@YOUR_DOMAIN'\n",
    "password = 'YOUR_PASSWORD'\n",
    "login_data = daptics.login(email, password)"
   ]
  },
  {
   "cell_type": "markdown",
   "metadata": {},
   "source": [
    "## Step 3. Create a daptics session on the server.\n",
    "\n",
    "The `create_session` method takes three arguments:\n",
    "* `name` - the name for the session (which must be unique for your account)\n",
    "* `description` - a required, short description\n",
    "* `is_demo` - a boolean value that determines whether the session will run\n",
    "in demo mode (if `True`) or in standard mode (if `False`)\n",
    "\n",
    "The session will be created for the `userId` saved from the login method.\n",
    "\n",
    "Note: *each session name must be a new, unique name*. So, every time the following cellis executed, the session name must be changed."
   ]
  },
  {
   "cell_type": "code",
   "execution_count": null,
   "metadata": {},
   "outputs": [],
   "source": [
    "name = 'Practice Session 36'\n",
    "description = 'This is a practice session'\n",
    "daptics.create_session(name, description);"
   ]
  },
  {
   "cell_type": "markdown",
   "metadata": {},
   "source": [
    "**Please note**: if you want to start a new session, you may execute the cell above, changing the name. It is not necessary to restart the Python kernel."
   ]
  },
  {
   "cell_type": "markdown",
   "metadata": {},
   "source": [
    "# Experimental Space Definition"
   ]
  },
  {
   "cell_type": "markdown",
   "metadata": {},
   "source": [
    "## Step 4. Specify the _Experimental Space Definition_.\n",
    "\n",
    "The _Experimental Space Definition_ (ESD) may be defined by a\n",
    "CSV file that defines the names and constraints for each parameter. There are currently two different types of experiments, `mixture` and `factorial` (see tutorial notebook `02_Terminology`):\n",
    "\n",
    "For `mixture` experiments, each row has exactly four columns:\n",
    "* the parameter name (a string)\n",
    "* the parameter type, set to `unit` for mixture experiments\n",
    "* the minimum number of units for the parameter (an integer)\n",
    "* the maximum number of units for the parameter (an integer)\n",
    "\n",
    "For `factorial` experiments, each row has at least four columns,\n",
    "but can have many more:\n",
    "* the parameter name (a string)\n",
    "* the parameter type, set to either `numerical` or `categorical`\n",
    "* the first possible value for the parameter (a number)\n",
    "* the second possible value for the parameter (a different number)\n",
    "* ...etc\n",
    "\n",
    "Each variable may have up to 20 values specified.\n",
    "\n",
    "You should add blank padding columns for rows that have\n",
    "fewer parameter values, so that the CSV file has the same number of\n",
    "columns on each row.\n",
    "\n",
    "Your ESD file should be placed in the directory that\n",
    "the Jupyter notebook server process was started. The current location of this tutorial is\n",
    "`../daptics-api/python_client/`; the tutorial file should appear in the `HOME` tab of the Jupyter notebook.\n",
    "\n",
    "### Please note: running this tutorial will be free of charge for any ESDs that fit in the Daptics [Free zone](https://daptics.ai/pdt_pricing).\n",
    "For this tutorial, we will use a free ESD, specified in the `esd-factorial-4x8.csv` file\n",
    "installed in `../daptics-api/python_client/`.\n",
    "To read your own ESD file, you would substitute your file name\n",
    "for `esd-factorial-4x8.csv`.\n",
    "The contents of the ESD file read as follows:\n"
   ]
  },
  {
   "cell_type": "code",
   "execution_count": null,
   "metadata": {},
   "outputs": [],
   "source": [
    "fname = 'esd-factorial-4x8.csv'\n",
    "with open(fname, 'r') as f:\n",
    "    print(f.read())"
   ]
  },
  {
   "cell_type": "markdown",
   "metadata": {},
   "source": [
    "## Step 5. Define the experimental space parameters for the session.\n",
    "\n",
    "The `save_experimental_and_space_parameters_csv` method requires two\n",
    "arguments:\n",
    "* `params` - a dict of parameters that specify\n",
    "    * `'space'`: a dict to define the space type, either\n",
    "        * `{'type': 'factorial'}` or\n",
    "        * `{'type': 'mixture', 'totalunits' : N}`, where `N` is the total number of units that all the\n",
    "        mixture variables must sum to.\n",
    "    * `'populationSize'`: how many experiments will be designed for each generation, and\n",
    "    * `'replicates'`: how many replicates of an experiment will be performed\n",
    "    (Note: to perform each experiment in the design just once, `replicates` should be zero.)\n",
    "* `fname` - The path to the _Experimental Space Definition_ file discussed above."
   ]
  },
  {
   "cell_type": "code",
   "execution_count": null,
   "metadata": {
    "lines_to_end_of_cell_marker": 2
   },
   "outputs": [],
   "source": [
    "# Here is an example for a \"mixture\" space, which must include a\n",
    "# `totalUnits` number:\n",
    "#params = {\n",
    "#    'space': {\n",
    "#        'type': 'mixture',\n",
    "#        'totalUnits': 15\n",
    "#    },\n",
    "#    'populationSize': 30,\n",
    "#    'replicates': 2\n",
    "#}\n",
    "#fname = 'esd-mixture-5.csv'\n",
    "\n",
    "\n",
    "# OR:  here is an example for a \"factorial\" space, which doesn't need the\n",
    "# `totalUnits` parameter:\n",
    "params = {\n",
    "    'space': {\n",
    "        'type': 'factorial'\n",
    "    },\n",
    "    'populationSize': 30,\n",
    "    'replicates': 2\n",
    "}\n",
    "fname = 'esd-factorial-4x8.csv'\n",
    "\n",
    "# When we call this method, the session will validate our parameters\n",
    "# and if the validation succeeds, a potentially long-running process\n",
    "# to set up the exploration space will be started.\n",
    "task = daptics.save_experimental_and_space_parameters_csv(fname, params)"
   ]
  },
  {
   "cell_type": "markdown",
   "metadata": {},
   "source": [
    "## Step 6. poll the task and process results\n",
    "\n",
    "Execution of the cell above launches a task to validate the _Experimental Space Definition_ and set up the space.\n",
    "The following call will poll this task.  This call may be repeated, ruturning `status = running` while the task is still in progress. When the task is done (`status=success`), the results are then processed, and the task is removed from the queue.  subsequent calls to `poll_for_current_task()` will result in an error because no task will be found.\n",
    "\n",
    "**Please note**:  when the task changes to `status=success`, the results are not processed *until `poll_for_current_task()` is called*.  The session function `wait_for_current_task()` simply wraps the loop in the following cell in a function, waiting for the task to finish, and the final call to `poll_for_current_task()` that yields `status=success` also processes the results.\n"
   ]
  },
  {
   "cell_type": "code",
   "execution_count": null,
   "metadata": {},
   "outputs": [],
   "source": [
    "# Poll the task. Repeat until task disappears, when `status` is `success` (or `failure`).\n",
    "while True:\n",
    "    task, errors = daptics.poll_for_current_task()\n",
    "    if task['currentTask'] is not None:\n",
    "        print(\"status = \", task['currentTask']['status'])\n",
    "        sleep(0.5)\n",
    "    else:\n",
    "        print(\"No current task found!\")\n",
    "        break\n",
    "\n",
    "# OR-----------------\n",
    "# daptics.wait_for_current_task()"
   ]
  },
  {
   "cell_type": "code",
   "execution_count": null,
   "metadata": {},
   "outputs": [],
   "source": [
    "daptics.wait_for_current_task()"
   ]
  },
  {
   "cell_type": "markdown",
   "metadata": {},
   "source": [
    "## Step 7. Print session, save validated space.\n",
    "\n",
    "If the _Experimental Space Definition_ was successfully validated, we may see it by printing out the current session state:"
   ]
  },
  {
   "cell_type": "code",
   "execution_count": null,
   "metadata": {},
   "outputs": [],
   "source": [
    "daptics.print()"
   ]
  },
  {
   "cell_type": "markdown",
   "metadata": {},
   "source": [
    "The validated _Experimental Space Definition_ object may be retrieved with the following call:"
   ]
  },
  {
   "cell_type": "code",
   "execution_count": null,
   "metadata": {},
   "outputs": [],
   "source": [
    "space = daptics.get_validated_experimental_space()\n",
    "space"
   ]
  },
  {
   "cell_type": "markdown",
   "metadata": {},
   "source": [
    "and it may be exported to a CSV file (whose contents should be the same as the _Experimental Space Definition_ CSV file):"
   ]
  },
  {
   "cell_type": "code",
   "execution_count": null,
   "metadata": {},
   "outputs": [],
   "source": [
    "fname = 'validated_space.csv'\n",
    "space = daptics.export_validated_experimental_space_csv(fname)\n",
    "\n",
    "# Show the contents of the exported file.\n",
    "with open(fname, 'r') as f:\n",
    "    print(f.read())\n",
    "\n",
    "# Show the other space parameters.\n",
    "# print(space)"
   ]
  },
  {
   "cell_type": "markdown",
   "metadata": {},
   "source": [
    "# Initial Experiments"
   ]
  },
  {
   "cell_type": "markdown",
   "metadata": {},
   "source": [
    "## Step 8. Specify initial experiments (*optional*)\n",
    "\n",
    "Daptics modeling may be initialized with any available data from initial experiments done previously.  The data file for initial experiments must have a certain form: one row of header, followed by one row for each experiment."
   ]
  },
  {
   "cell_type": "markdown",
   "metadata": {},
   "source": [
    "### Step 8-a. Initialize with your data\n",
    "\n",
    "The data file may be initialized with the following call:"
   ]
  },
  {
   "cell_type": "code",
   "execution_count": null,
   "metadata": {},
   "outputs": [],
   "source": [
    "fname = 'initial_experiments.csv'\n",
    "columns = daptics.export_initial_experiments_template_csv(fname)\n",
    "\n",
    "# Print out the column names (parameter names and `Response`).\n",
    "print(columns)\n",
    "\n",
    "# Let's verify the contents of the exported file. It should just\n",
    "# have one line listing the parameter names as well as a final column\n",
    "# named `Response`, separated by commas.\n",
    "#\n",
    "# param1,param2,param3,param4,Response\n",
    "\n",
    "with open(fname, 'r') as f:\n",
    "    print(f.read())"
   ]
  },
  {
   "cell_type": "markdown",
   "metadata": {},
   "source": [
    "The file `initial_experiments.csv` has been created in the Jupyter Notebook home directory (i.e. the directory where the Jupyter Notebook server was launched). You may now fill the file by adding rows to the CSV file, one row for each experiment, containing a value for each of the experimental variables (the specification of the experiment) followed by that experiment's response.\n",
    "\n",
    "You may construct the initial experiments file from scratch, but **it must have the correct column names in the header row**.\n",
    "\n",
    "### Step 8-b (alternative to step 8-a). Initialize with random experiments and responses:\n",
    "\n",
    "The following cell creates random experiments with random responses, just as an example for processing initial experiments."
   ]
  },
  {
   "cell_type": "code",
   "execution_count": null,
   "metadata": {},
   "outputs": [],
   "source": [
    "\n",
    "space = daptics.get_validated_experimental_space()\n",
    "design = None\n",
    "num_extras = 20\n",
    "random_experiments = daptics.random_experiments_with_responses(space, design, num_extras)\n",
    "\n",
    "# Now let's save these to a file using the `export_csv` utility method.\n",
    "fname = 'initial_experiments.csv'\n",
    "task = daptics.export_csv(fname, random_experiments)\n",
    "\n",
    "# Show the contents of the file we just saved.\n",
    "with open(fname, 'r') as f:\n",
    "    print(f.read())"
   ]
  },
  {
   "cell_type": "markdown",
   "metadata": {},
   "source": [
    "## Step 9 (*run only following step 8*). Process Initial Experiments\n",
    "\n",
    "Submit the initial experiments file created in the\n",
    "previous step to create the first experimental design.\n",
    "\n"
   ]
  },
  {
   "cell_type": "code",
   "execution_count": null,
   "metadata": {},
   "outputs": [],
   "source": [
    "fname = 'initial_experiments.csv'\n",
    "task = daptics.save_initial_experiments_csv(fname)"
   ]
  },
  {
   "cell_type": "markdown",
   "metadata": {},
   "source": [
    "## Step 10. Poll the task, print results\n",
    "\n",
    "As in Step 6, the following call will poll the task launched above to process initial experiments and create the first design. This call may be repeated, ruturning status = running while the task is still in progress. When the task is done (status=success), the results are then processed, and the task is removed from the queue. Subsequent calls to poll_for_current_task() will result in an error because no task will be found."
   ]
  },
  {
   "cell_type": "code",
   "execution_count": null,
   "metadata": {},
   "outputs": [],
   "source": [
    "# Poll the task. Repeat until task disappears, when `status` is `success` (or `failure`).\n",
    "daptics.wait_for_current_task()"
   ]
  },
  {
   "cell_type": "markdown",
   "metadata": {},
   "source": [
    "In the following cell, when you print the state of the session,\n",
    "you should now see the Design printed after the Experimental Space Definition.  Note that the Design printed has no responses in the final column."
   ]
  },
  {
   "cell_type": "code",
   "execution_count": null,
   "metadata": {},
   "outputs": [],
   "source": [
    "daptics.print()"
   ]
  },
  {
   "cell_type": "markdown",
   "metadata": {},
   "source": [
    "# Process the experimental design"
   ]
  },
  {
   "cell_type": "markdown",
   "metadata": {},
   "source": [
    "## Step 11. Save design to CSV\n",
    "Once the current generation design is created, save it to\n",
    "a CSV file.\n",
    "The call `daptics.export_generated_design_csv()` saves the last generated design."
   ]
  },
  {
   "cell_type": "code",
   "execution_count": null,
   "metadata": {},
   "outputs": [],
   "source": [
    "# name file for current generation:\n",
    "fname = 'gen'+str(daptics.gen)+'_design.csv'\n",
    "# e.g. fname = 'gen1_design.csv'\n",
    "print(fname)\n",
    "design = daptics.export_generated_design_csv(fname)\n",
    "\n",
    "# Show the contents of the exported file, which will contain\n",
    "# the designed parameter values and a blank `Response` column\n",
    "# that we will fill in after running the designed experiments.\n",
    "with open(fname, 'r') as f:\n",
    "    print(f.read())\n",
    "\n",
    "# Show the design (in Python) as well.\n",
    "print(\"Design file = \",fname)\n",
    "design"
   ]
  },
  {
   "cell_type": "markdown",
   "metadata": {},
   "source": [
    "## Step 12. Specify experimental responses"
   ]
  },
  {
   "cell_type": "markdown",
   "metadata": {},
   "source": [
    "### Step 12-a. Specify your experimental responses\n",
    "\n",
    "The previous cell has written the designed experiments to a file named\n",
    "`genN_experiments.csv` (with N corresponding to the current generation):\n",
    "\n"
   ]
  },
  {
   "cell_type": "code",
   "execution_count": null,
   "metadata": {},
   "outputs": [],
   "source": [
    "fname = 'gen'+str(daptics.gen)+'_design.csv'\n",
    "# e.g. fname = 'gen1_design.csv'\n",
    "print(\"Current design = \",fname)"
   ]
  },
  {
   "cell_type": "markdown",
   "metadata": {},
   "source": [
    "Either using a spreadsheet or a text editor,\n",
    "fill in a numerical (floating point) response value for each experiment row,\n",
    "in the last entry of each row.\n",
    "\n",
    "After saving this file, return to this notebook to\n",
    "show the response file contents."
   ]
  },
  {
   "cell_type": "markdown",
   "metadata": {},
   "source": [
    "### Step 12-b (alternative to step 12-a). Specify random responses\n",
    "Create random response values for the\n",
    "design we just generated using the client's\n",
    "`random_experiments_with_responses` method.\n",
    "\n",
    "We need to have the experimental space and the recently\n",
    "generated design for the call to `random_experiments_with_responses`.\n",
    "We do not want any extra experiments, so we pass `0` for the\n",
    "`num_extras` argument."
   ]
  },
  {
   "cell_type": "code",
   "execution_count": null,
   "metadata": {},
   "outputs": [],
   "source": [
    "space = daptics.get_validated_experimental_space()\n",
    "design = daptics.get_generated_design()\n",
    "num_extras = 0\n",
    "random_experiments = daptics.random_experiments_with_responses(space, design, num_extras)"
   ]
  },
  {
   "cell_type": "markdown",
   "metadata": {},
   "source": [
    "Now let's save these to a file using the `export_csv` utility method."
   ]
  },
  {
   "cell_type": "code",
   "execution_count": null,
   "metadata": {},
   "outputs": [],
   "source": [
    "fname = 'gen'+str(daptics.gen)+'_experiments.csv'\n",
    "# e.g. fname = 'gen1_experiments.csv'\n",
    "task = daptics.export_csv(fname, random_experiments)\n",
    "\n",
    "# Show the contents of the file we just saved.\n",
    "# with open(fname, 'r') as f:\n",
    "#    print(f.read())"
   ]
  },
  {
   "cell_type": "markdown",
   "metadata": {},
   "source": [
    "## Step 13.\n",
    "\n",
    "Now save these experiments to the session.\n",
    "This will start another `generate` task, just as we did\n",
    "in Step 9."
   ]
  },
  {
   "cell_type": "code",
   "execution_count": null,
   "metadata": {},
   "outputs": [],
   "source": [
    "fname = 'gen'+str(daptics.gen)+'_experiments.csv'\n",
    "# e.g. fname = 'gen1_experiments.csv'\n",
    "task = daptics.save_experiment_responses_csv(fname)"
   ]
  },
  {
   "cell_type": "code",
   "execution_count": null,
   "metadata": {},
   "outputs": [],
   "source": [
    "# Poll the task. Repeat until task disappears, when `status` is `success` (or `failure`).\n",
    "daptics.wait_for_current_task()"
   ]
  },
  {
   "cell_type": "markdown",
   "metadata": {},
   "source": [
    "From this point on, you can repeat steps 11 through\n",
    "13 until you are satisfied with your experimental\n",
    "campaign, or until all the possible experimental\n",
    "parameter combinations have been exhausted."
   ]
  },
  {
   "cell_type": "markdown",
   "metadata": {},
   "source": [
    "# Full loop\n",
    "The following loop illustrates how the execution of steps 1–13 can be\n",
    "fully automated. This approach may be helpful, for example,\n",
    "if you generate your responses by means of simulations."
   ]
  },
  {
   "cell_type": "code",
   "execution_count": null,
   "metadata": {},
   "outputs": [],
   "source": [
    "###################################################################\n",
    "# Connect (step 1)\n",
    "api_host = 'http://inertia.protolife.com:8080'\n",
    "daptics = DapticsClient(api_host)\n",
    "daptics.connect()\n",
    "# Login (step 2) - uncomment and fill in correct information\n",
    "#email = 'YOUR_EMAIL@YOUR_DOMAIN'\n",
    "#password = 'YOUR_PASSWORD'\n",
    "#daptics.login(email, password);\n",
    "\n",
    "# start a session (step 3)\n",
    "# NB:  session name must be changed each time this cell is executed.\n",
    "name = 'Session 10'\n",
    "description = 'This is a full loop session'\n",
    "daptics.create_session(name, description);\n",
    "\n",
    "###################################################################\n",
    "# Experimental space:\n",
    "# (steps 4-7 above)\n",
    "params = {\n",
    "    'space': {\n",
    "        'type': 'factorial'\n",
    "    },\n",
    "    'populationSize': 30,\n",
    "    'replicates': 2\n",
    "}\n",
    "fname = 'esd-factorial-4x8.csv'\n",
    "# Save and validate the space:\n",
    "task = daptics.save_experimental_and_space_parameters_csv(fname, params)\n",
    "daptics.wait_for_current_task()\n",
    "print(\"Experimental space done\")\n",
    "\n",
    "###################################################################\n",
    "# Initial experiments:\n",
    "# (steps 8-10)\n",
    "space = daptics.get_validated_experimental_space()\n",
    "design = None\n",
    "num_extras = 20\n",
    "random_experiments = daptics.random_experiments_with_responses(space, design, num_extras)\n",
    "fname = 'initial_experiments.csv'\n",
    "task = daptics.export_csv(fname, random_experiments)\n",
    "task = daptics.save_initial_experiments_csv(fname)\n",
    "daptics.wait_for_current_task()\n",
    "print(\"Initial experiments saved.\")\n",
    "# Save design:\n",
    "# name file for current generation:\n",
    "fname = 'gen'+str(daptics.gen)+'_design.csv'\n",
    "# e.g. fname = 'gen1_design.csv'\n",
    "print(\"Saving design to: \",fname)\n",
    "design = daptics.export_generated_design_csv(fname)\n",
    "\n",
    "#######################################################################\n",
    "# Loop:\n",
    "# (steps 12-13 -- repeated for 5 generations)\n",
    "for n in range(5):\n",
    "    ###################################################################\n",
    "    # Fill design with random responses\n",
    "    space = daptics.get_validated_experimental_space()\n",
    "    design = daptics.get_generated_design()\n",
    "    num_extras = 0\n",
    "    # Normally, you would fill the design with your experimental responses here.\n",
    "    # For this tutorial we execute the following line\n",
    "    # providing random numbers as a surrogate for the experimental responses.\n",
    "    random_experiments = daptics.random_experiments_with_responses(space, design, num_extras)\n",
    "    fname = 'gen'+str(daptics.gen)+'_experiments.csv'\n",
    "    # e.g. fname = 'gen1_experiments.csv'\n",
    "    task = daptics.export_csv(fname, random_experiments)\n",
    "    # save responses and generate next design\n",
    "    task = daptics.save_experiment_responses_csv(fname)\n",
    "    daptics.wait_for_current_task()\n",
    "    print(\"Done with design. Now gen = \",daptics.gen)\n",
    "    fname = 'gen'+str(daptics.gen)+'_design.csv'\n",
    "    # e.g. fname = 'gen1_design.csv'\n",
    "    print(\"Saving design to: \",fname)\n",
    "    design = daptics.export_generated_design_csv(fname)\n",
    "print(\"Loop completed\")"
   ]
  }
 ],
 "metadata": {
  "jupytext": {
   "formats": "ipynb,python//py:light"
  },
  "kernelspec": {
   "display_name": "Python 3",
   "language": "python",
   "name": "python3"
  }
 },
 "nbformat": 4,
 "nbformat_minor": 2
}
