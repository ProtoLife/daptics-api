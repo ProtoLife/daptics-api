{
 "cells": [
  {
   "cell_type": "markdown",
   "metadata": {},
   "source": [
    "# DapticsClient - Introduction\n",
    "\n",
    "This notebook contains an interactive introduction to the Python DapticsClient class,\n",
    "a simplified interface for accessing the Daptics GraphQL API for the optimization of\n",
    "experimental design.\n",
    "\n",
    "Documentation for using the DapticsClient class (implemented in the daptics_client.py\n",
    "file in this folder) is included as comment lines in the interactive Python cells of\n",
    "this notebook.\n",
    "\n",
    "For additional help or information, please visit or contact Daptics.\n",
    "\n",
    "On the web at https://daptics.ai\n",
    "By email at support@daptics.ai\n",
    "\n",
    "Daptics API Version 0.10.0\n",
    "Copyright (c) 2019 Daptics Inc.\n",
    "\n",
    "Permission is hereby granted, free of charge, to any person obtaining a copy of this software and associated documentation files (the \"Software\"), the rights to use, copy, modify, merge, publish, and/or distribute, copies of the Software, and to permit persons to whom the Software is furnished to do so, subject to the following conditions:\n",
    "\n",
    "You do not have the right to sub-license or sell copies of the Software.\n",
    "\n",
    "The above copyright notice and this permission notice shall be included in all copies or substantial portions of the Software.\n",
    "\n",
    "THE SOFTWARE IS PROVIDED \"AS IS\", WITHOUT WARRANTY OF ANY KIND, EXPRESS OR IMPLIED, INCLUDING BUT NOT LIMITED TO THE WARRANTIES OF MERCHANTABILITY, FITNESS FOR A PARTICULAR PURPOSE AND NONINFRINGEMENT. IN NO EVENT SHALL THE AUTHORS OR COPYRIGHT HOLDERS BE LIABLE FOR ANY CLAIM, DAMAGES OR OTHER LIABILITY, WHETHER IN AN ACTION OF CONTRACT, TORT OR OTHERWISE, ARISING FROM, OUT OF OR IN CONNECTION WITH THE SOFTWARE OR THE USE OR OTHER DEALINGS IN THE SOFTWARE."
   ]
  },
  {
   "cell_type": "code",
   "execution_count": null,
   "metadata": {},
   "outputs": [],
   "source": [
    "# Step 1. Create a DapticsClient object.\n",
    "\n",
    "# Before running this project, please make sure that your Jupyter\n",
    "# Python environment has these required packages installed:\n",
    "#\n",
    "#   chardet\n",
    "#   urllib3\n",
    "#   requests\n",
    "#   gql\n",
    "#\n",
    "# You will also need a validated user account on the Daptics API server.\n",
    "# You can create an account by clicking the `Get Started for Free` button at\n",
    "# https://daptics.ai\n",
    "#\n",
    "# See the 01_README.ipynb notebook in this folder for more information.\n",
    "\n",
    "# Import classes from the daptics_client module\n",
    "# Requirements are Python 3, and the `gql` and `requests` libraries\n",
    "from daptics_client import DapticsClient, DapticsTaskType, DapticsExperimentsType\n",
    "from datetime import datetime\n",
    "\n",
    "# Create a client object and try to connect to the daptics API server.\n",
    "# The client constructor takes a URL argument that specifies the scheme,\n",
    "# host and port number of the API server.\n",
    "\n",
    "# Note: do not specify the path on the server; the DapticsClient object\n",
    "# will take care of that for us.\n",
    "api_host = 'https://api.daptics.ai'\n",
    "daptics = DapticsClient(api_host)\n",
    "\n",
    "# Show the options set in the client.\n",
    "# The default options leave everything under the user's manual control.\n",
    "print(daptics.options)"
   ]
  },
  {
   "cell_type": "code",
   "execution_count": null,
   "metadata": {},
   "outputs": [],
   "source": [
    "# Step 2. Connect to the API server and show GraphQL introspection information.\n",
    "\n",
    "# The `connect` method will attempt to connect to the /api path on the\n",
    "# API server and obtain the GraphQL schema.\n",
    "daptics.connect()\n",
    "\n",
    "# Show the result. After connecting, the daptics object should have a `gql` attribute.\n",
    "# Let's look at the data stored in the `gql` attribute by printing its `__dict__`.\n",
    "# We can see that the gql library has introspected all the GraphQL type,\n",
    "# query and mutation information exposed by the API.\n",
    "print(daptics.gql.__dict__)"
   ]
  },
  {
   "cell_type": "code",
   "execution_count": null,
   "metadata": {},
   "outputs": [],
   "source": [
    "# Step 3. Log in to the API server to obtain an access token.\n",
    "\n",
    "# The `login` method takes two string arguments, the user's\n",
    "# `email` and `password`.\n",
    "\n",
    "# Note: Use the real email address and password you used when you created\n",
    "# your account on the daptics.ai website.\n",
    "\n",
    "email = 'YOUR_EMAIL@YOUR_DOMAIN'\n",
    "password = 'YOUR_PASSWORD'\n",
    "data = daptics.login(email, password)\n",
    "\n",
    "# Show the result. The `daptics` object will remember the access token\n",
    "# and use it for all subsequent API requests. The `daptics` object\n",
    "# will also remember the `userId` that corresponds to the email address.\n",
    "print(data)"
   ]
  },
  {
   "cell_type": "code",
   "execution_count": null,
   "metadata": {},
   "outputs": [],
   "source": [
    "# Step 4. Create a daptics session on the server.\n",
    "\n",
    "name = datetime.now().strftime('Analytics Session %Y%m%d-%H%M%S')\n",
    "description = 'Demonstrate analytics files'\n",
    "data = daptics.create_session(name, description)\n",
    "\n",
    "# Show the result. The `daptics` object will remember the `sessionId`.\n",
    "print(data)"
   ]
  },
  {
   "cell_type": "code",
   "execution_count": null,
   "metadata": {},
   "outputs": [],
   "source": [
    "# Step 5. Save and validate the default experimental space parameters.\n",
    "\n",
    "# Make a params input from the default `initial_params` for the session.\n",
    "params = {\n",
    "    'space': {\n",
    "        'type': 'factorial'\n",
    "    },\n",
    "    'populationSize': 30,\n",
    "    'replicates': 2\n",
    "}\n",
    "fname = 'esd-factorial-4x8.csv'\n",
    "\n",
    "data = daptics.put_experimental_parameters_csv(fname, params)\n",
    "\n",
    "# Show the result: a task with 'type' 'space'.\n",
    "print(data)"
   ]
  },
  {
   "cell_type": "code",
   "execution_count": null,
   "metadata": {},
   "outputs": [],
   "source": [
    "# Step 6. Wait for the experimental space parameters validation result.\n",
    "\n",
    "data, errors = daptics.wait_for_current_task(DapticsTaskType.SPACE)\n",
    "\n",
    "# Show the result.\n",
    "print(data)"
   ]
  },
  {
   "cell_type": "code",
   "execution_count": null,
   "metadata": {},
   "outputs": [],
   "source": [
    "# Step 7. Generate the first design (without any initial experiments).\n",
    "\n",
    "data = daptics.generate_design()\n",
    "\n",
    "# Show the result: a task with 'type' 'generate'.\n",
    "print(data)"
   ]
  },
  {
   "cell_type": "code",
   "execution_count": null,
   "metadata": {},
   "outputs": [],
   "source": [
    "# Step 8. Wait for the first design generation result.\n",
    "\n",
    "data, errors = daptics.wait_for_current_task(DapticsTaskType.GENERATE)\n",
    "print(data)"
   ]
  },
  {
   "cell_type": "code",
   "execution_count": null,
   "metadata": {},
   "outputs": [],
   "source": [
    "# Step 9. Fetch the design that was created.\n",
    "\n",
    "experiments_table = daptics.design['table']\n",
    "print(experiments_table)"
   ]
  },
  {
   "cell_type": "code",
   "execution_count": null,
   "metadata": {},
   "outputs": [],
   "source": [
    "# Step 10. Simulate some responses and submit them for the next design generation.\n",
    "\n",
    "data = daptics.simulate_experiment_responses(experiments_table)\n",
    "print(data)\n",
    "\n",
    "experiments = data['simulateResponses']['table']\n",
    "data = daptics.put_experiments(DapticsExperimentsType.DESIGNED_WITH_OPTIONAL_EXTRAS, experiments)\n",
    "print(data)"
   ]
  },
  {
   "cell_type": "code",
   "execution_count": null,
   "metadata": {},
   "outputs": [],
   "source": [
    "# Step 11. Wait for the responses to be incorporated.\n",
    "\n",
    "data, errors = daptics.wait_for_current_task(DapticsTaskType.UPDATE)\n",
    "print(data)"
   ]
  },
  {
   "cell_type": "code",
   "execution_count": null,
   "metadata": {},
   "outputs": [],
   "source": [
    "# Step 12. Generate analytics for the latest generation available.\n",
    "\n",
    "# The `generate_analytics` method starts an \"analytics\" task.\n",
    "data = daptics.generate_analytics()\n",
    "print(data)"
   ]
  },
  {
   "cell_type": "code",
   "execution_count": null,
   "metadata": {},
   "outputs": [],
   "source": [
    "# Step 13. Wait for the analytics files to be ready.\n",
    "\n",
    "data, errors = daptics.wait_for_current_task(DapticsTaskType.ANALYTICS)\n",
    "print(data)\n",
    "\n",
    "# When the \"analytics\" task has completed, the data is also stored in the client's\n",
    "# `analytics` attribute.\n",
    "print(daptics.analytics)"
   ]
  },
  {
   "cell_type": "code",
   "execution_count": null,
   "metadata": {},
   "outputs": [],
   "source": [
    "# Step 14. Download one of the analytics files.\n",
    "\n",
    "# The `download_analytics_file` method takes two arguments:\n",
    "#    `url` - The URL returned from the \"analtyics\" task result.\n",
    "#    `fname` - A file path to write the file to.\n",
    "#\n",
    "# We will extract the URL and filename from the `files` variable\n",
    "# we set in the previous step.\n",
    "files = daptics.analytics['files']\n",
    "file = files[0]\n",
    "url = file['url']\n",
    "fname = file['filename']\n",
    "data = daptics.download_analytics_file(url, fname)\n",
    "\n",
    "# Show the result, a response object.\n",
    "print(data)\n",
    "\n",
    "# Show the length of the file downloaded.\n",
    "import os\n",
    "size = os.path.getsize(fname)\n",
    "print('Size of {0} is {1} bytes'.format(fname, size))"
   ]
  },
  {
   "cell_type": "code",
   "execution_count": null,
   "metadata": {},
   "outputs": [],
   "source": [
    "# Step 15. Display the PDF in an iframe.\n",
    "\n",
    "# NOTE: If this shows a black box, try opening the file in a\n",
    "# PDF viewing application, rather than in the notebook.\n",
    "# The latest Chrome browsers impose strict security on PDF plugins.\n",
    "\n",
    "# We'll use a helper class that exposes a `_repr_html_` method.\n",
    "# We use \"embed\" tag because Chrome will not let us show an iframe.\n",
    "class PDF(object):\n",
    "  def __init__(self, path, height=400):\n",
    "    self.path = path\n",
    "    self.height = height\n",
    "\n",
    "  def _repr_html_(self):\n",
    "    return '<embed type=\"application/pdf\" src=\"{0}\" width=\"100%\" />'.format(self.path)\n",
    "\n",
    "  def _repr_latex_(self):\n",
    "    return r'\\includegraphics[width=1.0\\textwidth]{{{0}}}'.format(self.path)\n",
    "\n",
    "# Initialize a PDF object, and let Jupyter notebook show us the iframe representation.\n",
    "PDF(fname)"
   ]
  }
 ],
 "metadata": {
  "jupytext": {
   "formats": "ipynb,python//py:light"
  },
  "kernelspec": {
   "display_name": "Python 3",
   "language": "python",
   "name": "python3"
  }
 },
 "nbformat": 4,
 "nbformat_minor": 2
}
