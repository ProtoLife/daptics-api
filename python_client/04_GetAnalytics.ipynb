{
 "cells": [
  {
   "cell_type": "markdown",
   "metadata": {},
   "source": [
    "# DapticsClient - Introduction\n",
    "\n",
    "This notebook contains an interactive introduction to the Python DapticsClient class,\n",
    "a simplified interface for accessing the Daptics GraphQL API for the optimization of\n",
    "experimental design.\n",
    "\n",
    "Documentation for using the DapticsClient class (implemented in the daptics_client.py\n",
    "file in this folder) is included as comment lines in the interactive Python cells of\n",
    "this notebook.\n",
    "\n",
    "For additional help or information, please visit or contact Daptics.\n",
    "\n",
    "On the web at https://daptics.ai  \n",
    "By email at support@daptics.ai\n",
    "\n",
    "Daptics API Version 0.7.2  \n",
    "Copyright (c) 2019 Daptics Inc.\n",
    "\n",
    "Permission is hereby granted, free of charge, to any person obtaining a copy of this software and associated documentation files (the \"Software\"), the rights to use, copy, modify, merge, publish, and/or distribute, copies of the Software, and to permit persons to whom the Software is furnished to do so, subject to the following conditions:\n",
    "\n",
    "You do not have the right to sub-license or sell copies of the Software.\n",
    "\n",
    "The above copyright notice and this permission notice shall be included in all copies or substantial portions of the Software.\n",
    "\n",
    "THE SOFTWARE IS PROVIDED \"AS IS\", WITHOUT WARRANTY OF ANY KIND, EXPRESS OR IMPLIED, INCLUDING BUT NOT LIMITED TO THE WARRANTIES OF MERCHANTABILITY, FITNESS FOR A PARTICULAR PURPOSE AND NONINFRINGEMENT. IN NO EVENT SHALL THE AUTHORS OR COPYRIGHT HOLDERS BE LIABLE FOR ANY CLAIM, DAMAGES OR OTHER LIABILITY, WHETHER IN AN ACTION OF CONTRACT, TORT OR OTHERWISE, ARISING FROM, OUT OF OR IN CONNECTION WITH THE SOFTWARE OR THE USE OR OTHER DEALINGS IN THE SOFTWARE."
   ]
  },
  {
   "cell_type": "code",
   "execution_count": null,
   "metadata": {},
   "outputs": [],
   "source": [
    "# Step 1. Create a DapticsClient object and connect to the API server.\n",
    "\n",
    "# Before running this project, please make sure that your Jupyter\n",
    "# Python environment has these required packages installed:\n",
    "#\n",
    "#   chardet\n",
    "#   urllib3 \n",
    "#   requests\n",
    "#   gql\n",
    "#\n",
    "# You will also need a validated user account on the Daptics API server.\n",
    "# You can create an account by clicking the `Get Started for Free` button at \n",
    "# https://daptics.ai\n",
    "#\n",
    "# See the 01_README.ipynb notebook in this folder for more information.\n",
    "\n",
    "# Import the daptics_client module\n",
    "# Requirements are Python 3, and the `gql` and `requests` libraries\n",
    "from daptics_client import DapticsClient\n",
    "\n",
    "# Create a client object and try to connect to the daptics API server.\n",
    "# The client constructor takes a URL argument that specifies the scheme,\n",
    "# host and port number of the API server.\n",
    "\n",
    "# Note: do not specify the path on the server; the DapticsClient object\n",
    "# will take care of that for us.\n",
    "api_host = 'http://inertia.protolife.com:8080'\n",
    "daptics = DapticsClient(api_host)\n",
    "\n",
    "# The `connect` method will attempt to connect to the /api path on the\n",
    "# API server and obtain the GraphQL schema.\n",
    "daptics.connect()\n",
    "\n",
    "# Show the result. After connecting, the daptics object should have a `gql` attribute.\n",
    "# Let's look at the data stored in the `gql` attribute by printing its `__dict__`.\n",
    "# We can see that the gql library has introspected all the GraphQL type, \n",
    "# query and mutation information exposed by the API.\n",
    "print(daptics.gql.__dict__)"
   ]
  },
  {
   "cell_type": "code",
   "execution_count": null,
   "metadata": {},
   "outputs": [],
   "source": [
    "# Step 2. Log in to the API server to obtain an access token.\n",
    "\n",
    "# The `login` method takes two string arguments, the user's\n",
    "# `email` and `password`.\n",
    "\n",
    "# Note: Use the real email address and password you used when you created\n",
    "# your account on the daptics.ai website.\n",
    "\n",
    "email = 'YOUR_EMAIL@YOUR_DOMAIN.com'\n",
    "password = 'YOUR_PASSWORD'\n",
    "data = daptics.login(email, password)\n",
    "\n",
    "# Show the result. The `daptics` object will remember the access token\n",
    "# and use it for all subsequent API requests. The `daptics` object\n",
    "# will also remember the `userId` that corresponds to the email address.\n",
    "print(data)"
   ]
  },
  {
   "cell_type": "code",
   "execution_count": null,
   "metadata": {},
   "outputs": [],
   "source": [
    "# Step 3. Create a daptics session on the server.\n",
    "\n",
    "data = daptics.create_session(\"Analytics Session\", \"Quick Analytics Session\", False)\n",
    "\n",
    "# Show the result. The `daptics` object will remember the `sessionId`.\n",
    "print(data)"
   ]
  },
  {
   "cell_type": "code",
   "execution_count": null,
   "metadata": {},
   "outputs": [],
   "source": [
    "# Step 4. Save and validate the default experimental space parameters.\n",
    "\n",
    "# Make a params input from the default `initial_params` for the session.\n",
    "params = {\n",
    "    'replicates': daptics.initial_params['replicates'],\n",
    "    'populationSize': daptics.initial_params['populationSize'],\n",
    "    'space': daptics.initial_params['space']\n",
    "}\n",
    "\n",
    "data = daptics.save_experimental_and_space_parameters(params)\n",
    "\n",
    "# Show the result.\n",
    "print(data)"
   ]
  },
  {
   "cell_type": "code",
   "execution_count": null,
   "metadata": {},
   "outputs": [],
   "source": [
    "# Step 5. Poll for the experimental space parameters validation result.\n",
    "\n",
    "data, errors = daptics.poll_for_current_task('space')\n",
    "\n",
    "# Show the result.\n",
    "print(data)"
   ]
  },
  {
   "cell_type": "code",
   "execution_count": null,
   "metadata": {},
   "outputs": [],
   "source": [
    "# Step 6. Generate the first design (without any initial experiments).\n",
    "\n",
    "data = daptics.save_initial_experiments(None)\n",
    "print(data)"
   ]
  },
  {
   "cell_type": "code",
   "execution_count": null,
   "metadata": {},
   "outputs": [],
   "source": [
    "# Step 7. Poll for the first design generation result.\n",
    "\n",
    "data, errors = daptics.poll_for_current_task('generate')\n",
    "print(data)"
   ]
  },
  {
   "cell_type": "code",
   "execution_count": null,
   "metadata": {},
   "outputs": [],
   "source": [
    "# Step 8. Fetch the experiments for the current or a previous generation.\n",
    "\n",
    "# Show the current generation number for the session, saved in the `daptics` object.\n",
    "print('Current generation: {}'.format(daptics.gen))\n",
    "\n",
    "# The `get_experiments` method takes an optional argument:\n",
    "#    `gen` - the generation number for the experiments to be fetched. Use zero to \n",
    "# fetch any initial experiments. If gen is not supplied (or is None), the design for the \n",
    "# current generation will be retrieved.\n",
    "\n",
    "# Get the current generation.\n",
    "gen = 1\n",
    "data = daptics.get_experiments(gen)\n",
    "\n",
    "# Show the result. Note that the `hasResponses` field is False.\n",
    "print(data)"
   ]
  },
  {
   "cell_type": "code",
   "execution_count": null,
   "metadata": {},
   "outputs": [],
   "source": [
    "# Step 9. Simulate some responses and submit them for the next design generation.\n",
    "\n",
    "data = daptics.simulate_experiment_responses()\n",
    "print(data)\n",
    "\n",
    "experiments = data['simulateResponses']['table']\n",
    "data = daptics.save_experiment_responses(experiments)\n",
    "print(data)"
   ]
  },
  {
   "cell_type": "code",
   "execution_count": null,
   "metadata": {},
   "outputs": [],
   "source": [
    "# Step 10. Poll for the second design generation result.\n",
    "\n",
    "data, errors = daptics.poll_for_current_task('generate')\n",
    "print(data)"
   ]
  },
  {
   "cell_type": "code",
   "execution_count": null,
   "metadata": {},
   "outputs": [],
   "source": [
    "# Step 11. Fetch analytics for the latest generation available.\n",
    "\n",
    "# Show the current generation number for the session, saved in the `daptics` object.\n",
    "print('Current generation: {}'.format(daptics.gen))\n",
    "\n",
    "# The `get_analytics` method takes no arguments, and returns a list of URLs, \n",
    "# as well as the generation that was available.\n",
    "data = daptics.get_analytics()\n",
    "\n",
    "# Show the result.\n",
    "print(data)\n",
    "\n",
    "# Save the result in a variable for use in the next step.\n",
    "files = data['createAnalytics']['files']"
   ]
  },
  {
   "cell_type": "code",
   "execution_count": null,
   "metadata": {},
   "outputs": [],
   "source": [
    "# Step 12. Download one of the analytics files.\n",
    "\n",
    "# The `save_analytics_file` method takes two arguments:\n",
    "#    `url` - The URL returned by the `get_analytics` method.\n",
    "#    `save_as` - A file path to write the file to.\n",
    "#\n",
    "# We will extract the URL and filename from the `files` variable \n",
    "# we set in the previous step.\n",
    "file = files[0]\n",
    "url = file['url']\n",
    "fname = file['filename']\n",
    "data = daptics.save_analytics_file(url, save_as=fname)\n",
    "\n",
    "# Show the result, a response object.\n",
    "print(data)\n",
    "\n",
    "# Show the length of the file downloaded.\n",
    "import os\n",
    "size = os.path.getsize(fname)\n",
    "print('Size of {0} is {1} bytes'.format(fname, size))"
   ]
  },
  {
   "cell_type": "code",
   "execution_count": null,
   "metadata": {
    "lines_to_next_cell": 0
   },
   "outputs": [],
   "source": [
    "# Step 13. Display the PDF in an iframe.\n",
    "\n",
    "# We'll use a helper class that exposes a `_repr_html_` method.\n",
    "# We use \"embed\" tag because Chrome will not let us show an iframe.\n",
    "class PDF(object):\n",
    "  def __init__(self, path, height=400):\n",
    "    self.path = path\n",
    "    self.height = height\n",
    "\n",
    "  def _repr_html_(self):\n",
    "    return '<embed type=\"application/pdf\" src=\"{0}\" width=\"100%\" />'.format(self.path)\n",
    "\n",
    "  def _repr_latex_(self):\n",
    "    return r'\\includegraphics[width=1.0\\textwidth]{{{0}}}'.format(self.path)\n",
    "\n",
    "# Initialize a PDF object, and let Jupyter notebook show us the iframe representation.\n",
    "PDF(fname)"
   ]
  },
  {
   "cell_type": "code",
   "execution_count": null,
   "metadata": {
    "lines_to_next_cell": 2
   },
   "outputs": [],
   "source": []
  }
 ],
 "metadata": {
  "jupytext": {
   "formats": "ipynb,python//py:light"
  },
  "kernelspec": {
   "display_name": "Python 3",
   "language": "python",
   "name": "python3"
  }
 },
 "nbformat": 4,
 "nbformat_minor": 2
}
