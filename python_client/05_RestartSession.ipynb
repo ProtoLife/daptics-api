{
 "cells": [
  {
   "cell_type": "markdown",
   "metadata": {},
   "source": [
    "# DapticsClient - Introduction\n",
    "\n",
    "This notebook contains an interactive introduction to the Python DapticsClient class,\n",
    "a simplified interface for accessing the Daptics GraphQL API for the optimization of\n",
    "experimental design.\n",
    "\n",
    "Documentation for using the DapticsClient class (implemented in the daptics_client.py\n",
    "file in this folder) is included as comment lines in the interactive Python cells of\n",
    "this notebook.\n",
    "\n",
    "For additional help or information, please visit or contact Daptics.\n",
    "\n",
    "On the web at https://daptics.ai\n",
    "By email at support@daptics.ai\n",
    "\n",
    "Daptics API Version 0.9.1  \n",
    "Copyright (c) 2019 Daptics Inc.\n",
    "\n",
    "Permission is hereby granted, free of charge, to any person obtaining a copy of this software and associated documentation files (the \"Software\"), the rights to use, copy, modify, merge, publish, and/or distribute, copies of the Software, and to permit persons to whom the Software is furnished to do so, subject to the following conditions:\n",
    "\n",
    "You do not have the right to sub-license or sell copies of the Software.\n",
    "\n",
    "The above copyright notice and this permission notice shall be included in all copies or substantial portions of the Software.\n",
    "\n",
    "THE SOFTWARE IS PROVIDED \"AS IS\", WITHOUT WARRANTY OF ANY KIND, EXPRESS OR IMPLIED, INCLUDING BUT NOT LIMITED TO THE WARRANTIES OF MERCHANTABILITY, FITNESS FOR A PARTICULAR PURPOSE AND NONINFRINGEMENT. IN NO EVENT SHALL THE AUTHORS OR COPYRIGHT HOLDERS BE LIABLE FOR ANY CLAIM, DAMAGES OR OTHER LIABILITY, WHETHER IN AN ACTION OF CONTRACT, TORT OR OTHERWISE, ARISING FROM, OUT OF OR IN CONNECTION WITH THE SOFTWARE OR THE USE OR OTHER DEALINGS IN THE SOFTWARE."
   ]
  },
  {
   "cell_type": "code",
   "execution_count": null,
   "metadata": {},
   "outputs": [],
   "source": [
    "# Step 1. Create a DapticsClient object.\n",
    "\n",
    "# Before running this project, please make sure that your Jupyter\n",
    "# Python environment has these required packages installed:\n",
    "#\n",
    "#   chardet\n",
    "#   urllib3\n",
    "#   requests\n",
    "#   gql\n",
    "#\n",
    "# You will also need a validated user account on the Daptics API server.\n",
    "# You can create an account by clicking the `Get Started for Free` button at\n",
    "# https://daptics.ai\n",
    "#\n",
    "# See the 01_README.ipynb notebook in this folder for more information.\n",
    "\n",
    "# Import classes from the daptics_client module\n",
    "# Requirements are Python 3, and the `gql` and `requests` libraries\n",
    "from daptics_client import DapticsClient, DapticsTaskType, DapticsExperimentsType\n",
    "\n",
    "# Create a client object and try to connect to the daptics API server.\n",
    "# The client constructor takes a URL argument that specifies the scheme,\n",
    "# host and port number of the API server.\n",
    "\n",
    "# Note: do not specify the path on the server; the DapticsClient object\n",
    "# will take care of that for us.\n",
    "api_host = http://inertia.protolife.com:8080'\n",
    "daptics = DapticsClient(api_host)\n",
    "\n",
    "# Show the options set in the client.\n",
    "# The default options leave everything under the user's manual control.\n",
    "print(daptics.options)"
   ]
  },
  {
   "cell_type": "code",
   "execution_count": null,
   "metadata": {},
   "outputs": [],
   "source": [
    "# Step 2. Connect to the API server and show GraphQL introspection information.\n",
    "\n",
    "# The `connect` method will attempt to connect to the /api path on the\n",
    "# API server and obtain the GraphQL schema.\n",
    "daptics.connect()\n",
    "\n",
    "# Show the result. After connecting, the daptics object should have a `gql` attribute.\n",
    "# Let's look at the data stored in the `gql` attribute by printing its `__dict__`.\n",
    "# We can see that the gql library has introspected all the GraphQL type,\n",
    "# query and mutation information exposed by the API.\n",
    "print(daptics.gql.__dict__)"
   ]
  },
  {
   "cell_type": "code",
   "execution_count": null,
   "metadata": {},
   "outputs": [],
   "source": [
    "# Step 3. Log in to the API server to obtain an access token.\n",
    "\n",
    "# The `login` method takes two string arguments, the user's\n",
    "# `email` and `password`.\n",
    "\n",
    "# Note: Use the real email address and password you used when you created\n",
    "# your account on the daptics.ai website.\n",
    "\n",
    "email = 'YOUR_EMAIL@YOUR_DOMAIN'\n",
    "password = 'YOUR_PASSWORD'\n",
    "data = daptics.login(email, password)\n",
    "\n",
    "# Show the result. The `daptics` object will remember the access token\n",
    "# and use it for all subsequent API requests. The `daptics` object\n",
    "# will also remember the `userId` that corresponds to the email\n",
    "# address.\n",
    "print(data)"
   ]
  },
  {
   "cell_type": "code",
   "execution_count": null,
   "metadata": {},
   "outputs": [],
   "source": [
    "# Step 4. Show the names and ids of all the sessions belonging to the\n",
    "# user.\n",
    "\n",
    "data = daptics.list_sessions()\n",
    "print(data)\n",
    "\n",
    "# Look for the last session in the result.\n",
    "sessions = data['sessions']\n",
    "last_session = [s for s in sessions if s['active']][-1]\n",
    "print('Found {} sessions belonging to user'.format(len(sessions)))\n",
    "print('Last active session is {}'.format(last_session))"
   ]
  },
  {
   "cell_type": "code",
   "execution_count": null,
   "metadata": {},
   "outputs": [],
   "source": [
    "# Step 5. Reconnect to a daptics session on the server.\n",
    "\n",
    "# The `reconnect_session` method takes one argument:\n",
    "#    `session_id` - the ID string of a previously created session\n",
    "#\n",
    "# We will use the last session found in the previous step. If you prefer,\n",
    "# you may copy and paste a quoted sessionId value from the previous step.\n",
    "\n",
    "session_id = last_session['sessionId']\n",
    "data = daptics.reconnect_session(session_id)\n",
    "\n",
    "# Show the result. The `daptics` object will remember the `sessionId`.\n",
    "print(data)"
   ]
  },
  {
   "cell_type": "code",
   "execution_count": null,
   "metadata": {},
   "outputs": [],
   "source": [
    "# Step 6. Fetch the experiments for a previous generation.\n",
    "\n",
    "# Show the current generation number for the session, saved in the `daptics` object.\n",
    "print('Current generation: {}'.format(daptics.gen))\n",
    "\n",
    "# The `get_experiments` method takes an optional argument:\n",
    "#    `gen` - the generation number for the experiments to be fetched. Use zero to\n",
    "# fetch any initial experiments. If gen is not supplied (or is None), the design for the\n",
    "# current generation will be retrieved.\n",
    "\n",
    "# Get the experiments for the latest generation.\n",
    "data = daptics.get_experiments()\n",
    "\n",
    "# Show the result.\n",
    "print(data)"
   ]
  },
  {
   "cell_type": "code",
   "execution_count": null,
   "metadata": {},
   "outputs": [],
   "source": []
  }
 ],
 "metadata": {
  "jupytext": {
   "formats": "ipynb,python//py:light"
  },
  "kernelspec": {
   "display_name": "Python 3",
   "language": "python",
   "name": "python3"
  },
  "language_info": {
   "codemirror_mode": {
    "name": "ipython",
    "version": 3
   },
   "file_extension": ".py",
   "mimetype": "text/x-python",
   "name": "python",
   "nbconvert_exporter": "python",
   "pygments_lexer": "ipython3",
   "version": "3.5.2"
  }
 },
 "nbformat": 4,
 "nbformat_minor": 2
}
