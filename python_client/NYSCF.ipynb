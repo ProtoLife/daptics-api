{
 "cells": [
  {
   "cell_type": "markdown",
   "metadata": {},
   "source": [
    "# Automation Workflow Tutorial <a class=\"tocSkip\">\n",
    "\n",
    "This notebook contains an interactive introduction to the Python DapticsClient class,\n",
    "a simplified interface for accessing the Daptics GraphQL API for the optimization of\n",
    "experimental design.\n",
    "\n",
    "Documentation for using the DapticsClient class (implemented in the daptics_client.py\n",
    "file in this folder) is included as comment lines in the interactive Python cells of\n",
    "this notebook.\n",
    "\n",
    "For additional help or information, please visit or contact Daptics.\n",
    "\n",
    "On the web at https://daptics.ai\n",
    "By email at support@daptics.ai\n",
    "\n",
    "Daptics API Version 0.12.0\n",
    "Copyright (c) 2021 Daptics Inc.\n",
    "\n",
    "Permission is hereby granted, free of charge, to any person obtaining a copy of this software and associated documentation files (the \"Software\"), the rights to use, copy, modify, merge, publish, and/or distribute, copies of the Software, and to permit persons to whom the Software is furnished to do so, subject to the following conditions:\n",
    "\n",
    "You do not have the right to sub-license or sell copies of the Software.\n",
    "\n",
    "The above copyright notice and this permission notice shall be included in all copies or substantial portions of the Software.\n",
    "\n",
    "THE SOFTWARE IS PROVIDED \"AS IS\", WITHOUT WARRANTY OF ANY KIND, EXPRESS OR IMPLIED, INCLUDING BUT NOT LIMITED TO THE WARRANTIES OF MERCHANTABILITY, FITNESS FOR A PARTICULAR PURPOSE AND NONINFRINGEMENT. IN NO EVENT SHALL THE AUTHORS OR COPYRIGHT HOLDERS BE LIABLE FOR ANY CLAIM, DAMAGES OR OTHER LIABILITY, WHETHER IN AN ACTION OF CONTRACT, TORT OR OTHERWISE, ARISING FROM, OUT OF OR IN CONNECTION WITH THE SOFTWARE OR THE USE OR OTHER DEALINGS IN THE SOFTWARE."
   ]
  },
  {
   "cell_type": "markdown",
   "metadata": {},
   "source": [
    "## Installation and Setup<a class=\"tocSkip\">\n",
    "\n",
    "Before running this project, please make sure that your Jupyter Python environment supports Python 3, and has these required packages installed:\n",
    "*   chardet\n",
    "*   urllib3\n",
    "*   requests\n",
    "*   gql\n",
    "*   pandas    \n",
    "\n",
    "You will also need a validated user account on the Daptics API server.  You can create an account by [registering](https:daptics.ai/register) at https://daptics.ai, or contacting our sales department at sales@daptics.ai\n",
    "\n",
    "See the **01_README.ipynb** notebook in this folder for more information on installing necessary modules\n",
    "to work with the Daptics API.\n",
    "\n",
    "Review the **02_Terminology.ipynb** notebook to gain an understanding of how Daptics works, and\n",
    "way you set up the engine using experimental space parameters.\n",
    "\n",
    "The next cell gives an example of the information necessary to connect, log in, create a session,\n",
    "and define the \"experimental space\" for your campaign."
   ]
  },
  {
   "cell_type": "code",
   "execution_count": 9,
   "metadata": {},
   "outputs": [],
   "source": [
    "# Set up the API client environment.\n",
    "# Requirements are Python 3, and the `gql` and `requests` libraries.\n",
    "\n",
    "# Import required classes from the daptics_client package.\n",
    "from daptics_client import DapticsClient, DapticsTaskType, DapticsExperimentsType\n",
    "from datetime import datetime\n",
    "import json\n",
    "import os.path\n",
    "import pandas\n",
    "\n",
    "# Initialize values for all variables that will be used to\n",
    "# connect to the Daptics API and perform automated design of\n",
    "# experiments via CSV files.\n",
    "\n",
    "# The URL for the API server.\n",
    "api_host_url = 'https://api.daptics.ai'\n",
    "\n",
    "# The credentials for an active Daptics account.\n",
    "# Please contact sales@daptics.ai for information on\n",
    "# how to obtain an account.\n",
    "email = 'YOUR_EMAIL@YOUR_DOMAIN'\n",
    "password = 'YOUR_PASSWORD'\n",
    "\n",
    "# You will store the session unique identifier and the generation\n",
    "# number for the last design in a file that your automation workflow\n",
    "# software can read. The values in this file will let the automation\n",
    "# software pick up the appropriate design file.\n",
    "session_file = './output/session.json'\n",
    "\n",
    "# Configuration options used for automated processing.\n",
    "auto_options = {\n",
    "    # Create CSV files at each step in this directory.\n",
    "    'auto_export_path': output_path,\n",
    "    # Let long-running tasks execute for up to one hour.\n",
    "    'auto_task_timeout': 3600,\n",
    "    # Automatically generate the next design when results are uploaded.\n",
    "    'auto_generate_next_design': True\n",
    "}\n",
    "\n"
   ]
  },
  {
   "cell_type": "markdown",
   "metadata": {},
   "source": [
    "## Creating a session <a class=\"tocSkip\">"
   ]
  },
  {
   "cell_type": "markdown",
   "metadata": {},
   "source": [
    "You first connect to the API server, log in,\n",
    "create a session for your experimental campaign"
   ]
  },
  {
   "cell_type": "code",
   "execution_count": 66,
   "metadata": {},
   "outputs": [
    {
     "name": "stderr",
     "output_type": "stream",
     "text": [
      "/Users/n/.pyenv/versions/3.7.2/lib/python3.7/site-packages/urllib3/connectionpool.py:1004: InsecureRequestWarning: Unverified HTTPS request is being made to host 'api.daptics.ai'. Adding certificate verification is strongly advised. See: https://urllib3.readthedocs.io/en/latest/advanced-usage.html#ssl-warnings\n",
      "  InsecureRequestWarning,\n",
      "/Users/n/.pyenv/versions/3.7.2/lib/python3.7/site-packages/urllib3/connectionpool.py:1004: InsecureRequestWarning: Unverified HTTPS request is being made to host 'api.daptics.ai'. Adding certificate verification is strongly advised. See: https://urllib3.readthedocs.io/en/latest/advanced-usage.html#ssl-warnings\n",
      "  InsecureRequestWarning,\n",
      "/Users/n/.pyenv/versions/3.7.2/lib/python3.7/site-packages/urllib3/connectionpool.py:1004: InsecureRequestWarning: Unverified HTTPS request is being made to host 'api.daptics.ai'. Adding certificate verification is strongly advised. See: https://urllib3.readthedocs.io/en/latest/advanced-usage.html#ssl-warnings\n",
      "  InsecureRequestWarning,\n"
     ]
    },
    {
     "name": "stdout",
     "output_type": "stream",
     "text": [
      "Creating the session Automated Workflow 20210628-132121.\n"
     ]
    },
    {
     "name": "stderr",
     "output_type": "stream",
     "text": [
      "/Users/n/.pyenv/versions/3.7.2/lib/python3.7/site-packages/urllib3/connectionpool.py:1004: InsecureRequestWarning: Unverified HTTPS request is being made to host 'api.daptics.ai'. Adding certificate verification is strongly advised. See: https://urllib3.readthedocs.io/en/latest/advanced-usage.html#ssl-warnings\n",
      "  InsecureRequestWarning,\n"
     ]
    }
   ],
   "source": [
    "# With all the Python requirements satisfied, and using the variables\n",
    "# previously defined, you can go ahead and generate your first\n",
    "# experimental design generation.\n",
    "\n",
    "# Initialize values for additional variables that will be used to\n",
    "# create a Daptics session for your workflow and generate an\n",
    "# initial design.\n",
    "\n",
    "# Identify the session. Typically, your workflow software will\n",
    "# have a unique identifier that can be used as the session\n",
    "# name. If not, here's a way to make a unique name for your session.\n",
    "session_name = datetime.now().strftime('Automated Workflow %Y%m%d-%H%M%S')\n",
    "\n",
    "# A description for the session\n",
    "session_description = 'Fully automated example'\n",
    "\n",
    "# Now you can connect to the API, create a session, set up the\n",
    "# experimental space for your campaign, and generate the first\n",
    "# design of experiments.\n",
    "\n",
    "# Create a Python client instance, connecting to the beta API server.\n",
    "daptics = DapticsClient(api_host_url)\n",
    "\n",
    "# Set up the options that will fully automate client processing.\n",
    "daptics.options = auto_options\n",
    "\n",
    "# The 'connect' method will connect to the API server and obtain the\n",
    "# GraphQL schema.\n",
    "daptics.connect()\n",
    "\n",
    "# Log into the API using your Daptics account credentials.\n",
    "daptics.login(email, password)\n",
    "\n",
    "print('Creating the session {}.'.format(session_name))\n",
    "\n",
    "# Create a new 'session' for this experimental campaign.\n",
    "session_info = daptics.create_session(session_name, session_description)\n"
   ]
  },
  {
   "cell_type": "code",
   "execution_count": 67,
   "metadata": {},
   "outputs": [
    {
     "data": {
      "text/plain": [
       "{'createSession': {'active': True,\n",
       "  'campaign': {'completed': False, 'gen': -1, 'remaining': None},\n",
       "  'demo': False,\n",
       "  'description': 'Fully automated example',\n",
       "  'host': 'localhost',\n",
       "  'name': 'Automated Workflow 20210628-132121',\n",
       "  'params': {'designCost': None,\n",
       "   'populationSize': 30,\n",
       "   'replicates': 2,\n",
       "   'space': {'table': {'colHeaders': ['Name',\n",
       "      'Type',\n",
       "      'Value.1',\n",
       "      'Value.2',\n",
       "      'Value.3',\n",
       "      'Value.4'],\n",
       "     'data': [['param', 'numerical', '0', '1', '', ''],\n",
       "      ['param2', 'numerical', '2', '3', '4', '5']]},\n",
       "    'totalUnits': None,\n",
       "    'type': 'factorial'},\n",
       "   'validated': False},\n",
       "  'sessionId': 'S995mfa91sbj42shgwtx',\n",
       "  'tag': 'compassionate.poincare.20210628112123.5da4.inertia',\n",
       "  'version': 'v0.9.0-runtime-exs-a83b4de'}}"
      ]
     },
     "execution_count": 67,
     "metadata": {},
     "output_type": "execute_result"
    }
   ],
   "source": [
    "session_info"
   ]
  },
  {
   "cell_type": "markdown",
   "metadata": {},
   "source": [
    "## Creating the experimental space <a class=\"tocSkip\">"
   ]
  },
  {
   "cell_type": "code",
   "execution_count": 75,
   "metadata": {},
   "outputs": [],
   "source": [
    "# The location of the CSV file that defines the names and possible\n",
    "# values for each input parameter for an individual experiment.\n",
    "csv_space_file = './input/combo33.csv' #needs to be fixed...\n",
    "csv_space_file = './input/experimental_space.csv'\n",
    "\n",
    "# The location of the CSV file that your automation workflow software\n",
    "# will create after performing all the experiments in a Daptics-\n",
    "# generated design and adding the Response value for each\n",
    "# experiment.\n",
    "csv_experiments_file = './input/experiments.csv'\n",
    "\n",
    "# The location where Daptics will create CSV files for designed\n",
    "# experiments.\n",
    "output_path = './output'\n",
    "\n",
    "\n"
   ]
  },
  {
   "cell_type": "markdown",
   "metadata": {},
   "source": [
    "With modules and variables set up, you must place a CSV file that\n",
    "defines the names and possible values for each input parameter\n",
    "that will be used in your experiemnts. This should be saved to a\n",
    "CSV file at the location specified in the `csv_space_file` variable.\n",
    "\n",
    "Once this file is there, you can use the session created above by logging in, and have Daptics\n",
    "generate a first batch of experiments for the automation workflow\n",
    "software to perform and assay.\n",
    "\n",
    "When you run the next cell, you should see task retry progress\n",
    "messages, for the validation of the space and for the creation\n",
    "of the first generation design. The process should take about\n",
    "a minute if you use the example `experimental_space.csv` file\n",
    "in this repository."
   ]
  },
  {
   "cell_type": "code",
   "execution_count": 76,
   "metadata": {},
   "outputs": [],
   "source": [
    "myspace = pandas.read_csv(csv_space_file,header=None)\n"
   ]
  },
  {
   "cell_type": "code",
   "execution_count": 77,
   "metadata": {},
   "outputs": [
    {
     "data": {
      "text/html": [
       "<div>\n",
       "<style scoped>\n",
       "    .dataframe tbody tr th:only-of-type {\n",
       "        vertical-align: middle;\n",
       "    }\n",
       "\n",
       "    .dataframe tbody tr th {\n",
       "        vertical-align: top;\n",
       "    }\n",
       "\n",
       "    .dataframe thead th {\n",
       "        text-align: right;\n",
       "    }\n",
       "</style>\n",
       "<table border=\"1\" class=\"dataframe\">\n",
       "  <thead>\n",
       "    <tr style=\"text-align: right;\">\n",
       "      <th></th>\n",
       "      <th>0</th>\n",
       "      <th>1</th>\n",
       "      <th>2</th>\n",
       "      <th>3</th>\n",
       "      <th>4</th>\n",
       "      <th>5</th>\n",
       "      <th>6</th>\n",
       "    </tr>\n",
       "  </thead>\n",
       "  <tbody>\n",
       "    <tr>\n",
       "      <th>0</th>\n",
       "      <td>param1</td>\n",
       "      <td>numerical</td>\n",
       "      <td>0</td>\n",
       "      <td>1</td>\n",
       "      <td>2</td>\n",
       "      <td>3</td>\n",
       "      <td>4</td>\n",
       "    </tr>\n",
       "    <tr>\n",
       "      <th>1</th>\n",
       "      <td>param2</td>\n",
       "      <td>numerical</td>\n",
       "      <td>0</td>\n",
       "      <td>1</td>\n",
       "      <td>2</td>\n",
       "      <td>3</td>\n",
       "      <td>4</td>\n",
       "    </tr>\n",
       "    <tr>\n",
       "      <th>2</th>\n",
       "      <td>param3</td>\n",
       "      <td>numerical</td>\n",
       "      <td>0</td>\n",
       "      <td>1</td>\n",
       "      <td>2</td>\n",
       "      <td>3</td>\n",
       "      <td>4</td>\n",
       "    </tr>\n",
       "    <tr>\n",
       "      <th>3</th>\n",
       "      <td>param4</td>\n",
       "      <td>numerical</td>\n",
       "      <td>0</td>\n",
       "      <td>1</td>\n",
       "      <td>2</td>\n",
       "      <td>3</td>\n",
       "      <td>4</td>\n",
       "    </tr>\n",
       "    <tr>\n",
       "      <th>4</th>\n",
       "      <td>param5</td>\n",
       "      <td>numerical</td>\n",
       "      <td>0</td>\n",
       "      <td>1</td>\n",
       "      <td>2</td>\n",
       "      <td>3</td>\n",
       "      <td>4</td>\n",
       "    </tr>\n",
       "  </tbody>\n",
       "</table>\n",
       "</div>"
      ],
      "text/plain": [
       "        0          1  2  3  4  5  6\n",
       "0  param1  numerical  0  1  2  3  4\n",
       "1  param2  numerical  0  1  2  3  4\n",
       "2  param3  numerical  0  1  2  3  4\n",
       "3  param4  numerical  0  1  2  3  4\n",
       "4  param5  numerical  0  1  2  3  4"
      ]
     },
     "execution_count": 77,
     "metadata": {},
     "output_type": "execute_result"
    }
   ],
   "source": [
    "myspace.head()"
   ]
  },
  {
   "cell_type": "code",
   "execution_count": 78,
   "metadata": {},
   "outputs": [],
   "source": [
    "# The experimental meta-parameters that define the type of experiment\n",
    "# campaign you will be doing, and the number of experiments that will\n",
    "# be explored at each gneration. The combination of these meta-\n",
    "# parameters and the definition of the input parameters is called the\n",
    "# \"experimental space\" for the campaign.\n",
    "space_params = {\n",
    "    # The 'factorial' experimental space type is used for\n",
    "    # unconstrained input parameters.\n",
    "    'space': { 'type': 'factorial' },\n",
    "    # Each design generated will contain 30 independent experiments.\n",
    "    'populationSize': 30,\n",
    "    # And will have 2 copies of these experiments, so the total\n",
    "    # number of experiments to be performed at each generation will\n",
    "    # be 30 * 3 = 90.\n",
    "    'replicates': 3\n",
    "}"
   ]
  },
  {
   "cell_type": "code",
   "execution_count": 79,
   "metadata": {},
   "outputs": [
    {
     "name": "stdout",
     "output_type": "stream",
     "text": [
      "Creating the experimental space. This may take a minute or more.\n"
     ]
    },
    {
     "name": "stderr",
     "output_type": "stream",
     "text": [
      "/Users/n/.pyenv/versions/3.7.2/lib/python3.7/site-packages/urllib3/connectionpool.py:1004: InsecureRequestWarning: Unverified HTTPS request is being made to host 'api.daptics.ai'. Adding certificate verification is strongly advised. See: https://urllib3.readthedocs.io/en/latest/advanced-usage.html#ssl-warnings\n",
      "  InsecureRequestWarning,\n",
      "/Users/n/.pyenv/versions/3.7.2/lib/python3.7/site-packages/urllib3/connectionpool.py:1004: InsecureRequestWarning: Unverified HTTPS request is being made to host 'api.daptics.ai'. Adding certificate verification is strongly advised. See: https://urllib3.readthedocs.io/en/latest/advanced-usage.html#ssl-warnings\n",
      "  InsecureRequestWarning,\n"
     ]
    },
    {
     "name": "stdout",
     "output_type": "stream",
     "text": [
      "\r",
      "Task status = running after 1 retries..."
     ]
    },
    {
     "name": "stderr",
     "output_type": "stream",
     "text": [
      "/Users/n/.pyenv/versions/3.7.2/lib/python3.7/site-packages/urllib3/connectionpool.py:1004: InsecureRequestWarning: Unverified HTTPS request is being made to host 'api.daptics.ai'. Adding certificate verification is strongly advised. See: https://urllib3.readthedocs.io/en/latest/advanced-usage.html#ssl-warnings\n",
      "  InsecureRequestWarning,\n"
     ]
    },
    {
     "name": "stdout",
     "output_type": "stream",
     "text": [
      "\n",
      "Task completed!\n"
     ]
    }
   ],
   "source": [
    "print('Creating the experimental space. This may take a minute or more.')\n",
    "\n",
    "# Upload the CSV file containing the names and possible values for\n",
    "# each experimental input parameter, and set other meta-parameters,\n",
    "# to completely initialize the Daptics engine for this campaign.\n",
    "space_info = daptics.put_experimental_parameters_csv(csv_space_file, space_params)\n",
    "\n",
    "# Because the `auto_task_timeout` option was set, the Python script\n",
    "# will block here, until the space has been validated and set up.\n",
    "\n",
    "# Now the Daptics engine is set up. At this point, if you have any\n",
    "# initial experiments that have been performed by your workflow,\n",
    "# instead of calling `daptics.generate_design()`, you can upload\n",
    "# these experiments from a CSV that your automation workflow software\n",
    "# has created, containing the input parameter and the response values\n",
    "# for each of these \"initial experiments\"."
   ]
  },
  {
   "cell_type": "code",
   "execution_count": 80,
   "metadata": {},
   "outputs": [
    {
     "data": {
      "text/plain": [
       "{'putExperimentalParameters': {'description': 'validating and saving experimental space',\n",
       "  'errors': None,\n",
       "  'gen': -1,\n",
       "  'progress': None,\n",
       "  'result': {'campaign': {'completed': False, 'gen': 0, 'remaining': 104},\n",
       "   'params': {'designCost': 109,\n",
       "    'populationSize': 30,\n",
       "    'replicates': 3,\n",
       "    'space': {'table': {'colHeaders': ['Name',\n",
       "       'Type',\n",
       "       'Value.1',\n",
       "       'Value.2',\n",
       "       'Value.3',\n",
       "       'Value.4',\n",
       "       'Value.5'],\n",
       "      'data': [['param1', 'numerical', '0', '1', '2', '3', '4'],\n",
       "       ['param2', 'numerical', '0', '1', '2', '3', '4'],\n",
       "       ['param3', 'numerical', '0', '1', '2', '3', '4'],\n",
       "       ['param4', 'numerical', '0', '1', '2', '3', '4'],\n",
       "       ['param5', 'numerical', '0', '1', '2', '3', '4']]},\n",
       "     'totalUnits': None,\n",
       "     'type': 'factorial'},\n",
       "    'validated': True},\n",
       "   'type': 'space'},\n",
       "  'sessionId': 'S995mfa91sbj42shgwtx',\n",
       "  'startedAt': '1970-01-19T19:21:19.976Z',\n",
       "  'status': 'success',\n",
       "  'taskId': 'C9969hrbtmgas38vdp0q',\n",
       "  'type': 'space'}}"
      ]
     },
     "execution_count": 80,
     "metadata": {},
     "output_type": "execute_result"
    }
   ],
   "source": [
    "space_info"
   ]
  },
  {
   "cell_type": "markdown",
   "metadata": {},
   "source": [
    "## Generating the First Design <a class=\"tocSkip\">"
   ]
  },
  {
   "cell_type": "code",
   "execution_count": 81,
   "metadata": {},
   "outputs": [
    {
     "name": "stdout",
     "output_type": "stream",
     "text": [
      "Creating an initial design. This may take a minute or more.\n"
     ]
    },
    {
     "name": "stderr",
     "output_type": "stream",
     "text": [
      "/Users/n/.pyenv/versions/3.7.2/lib/python3.7/site-packages/urllib3/connectionpool.py:1004: InsecureRequestWarning: Unverified HTTPS request is being made to host 'api.daptics.ai'. Adding certificate verification is strongly advised. See: https://urllib3.readthedocs.io/en/latest/advanced-usage.html#ssl-warnings\n",
      "  InsecureRequestWarning,\n",
      "/Users/n/.pyenv/versions/3.7.2/lib/python3.7/site-packages/urllib3/connectionpool.py:1004: InsecureRequestWarning: Unverified HTTPS request is being made to host 'api.daptics.ai'. Adding certificate verification is strongly advised. See: https://urllib3.readthedocs.io/en/latest/advanced-usage.html#ssl-warnings\n",
      "  InsecureRequestWarning,\n"
     ]
    },
    {
     "name": "stdout",
     "output_type": "stream",
     "text": [
      "\r",
      "Task status = running after 1 retries..."
     ]
    },
    {
     "name": "stderr",
     "output_type": "stream",
     "text": [
      "/Users/n/.pyenv/versions/3.7.2/lib/python3.7/site-packages/urllib3/connectionpool.py:1004: InsecureRequestWarning: Unverified HTTPS request is being made to host 'api.daptics.ai'. Adding certificate verification is strongly advised. See: https://urllib3.readthedocs.io/en/latest/advanced-usage.html#ssl-warnings\n",
      "  InsecureRequestWarning,\n"
     ]
    },
    {
     "name": "stdout",
     "output_type": "stream",
     "text": [
      "\r",
      "Task status = running after 2 retries..."
     ]
    },
    {
     "name": "stderr",
     "output_type": "stream",
     "text": [
      "/Users/n/.pyenv/versions/3.7.2/lib/python3.7/site-packages/urllib3/connectionpool.py:1004: InsecureRequestWarning: Unverified HTTPS request is being made to host 'api.daptics.ai'. Adding certificate verification is strongly advised. See: https://urllib3.readthedocs.io/en/latest/advanced-usage.html#ssl-warnings\n",
      "  InsecureRequestWarning,\n"
     ]
    },
    {
     "name": "stdout",
     "output_type": "stream",
     "text": [
      "\n",
      "Task completed!\n",
      "All done. Generation 1 design is now available in output directory.\n"
     ]
    }
   ],
   "source": [
    "# Here is how you would be use the API to upload initial experiments:\n",
    "# daptics.put_experiments_csv(\n",
    "#    DapticsExperimentsType.INITIAL_EXTRAS_ONLY,\n",
    "#    csv_experiments_file)\n",
    "\n",
    "print('Creating an initial design. This may take a minute or more.')\n",
    "\n",
    "# If you have no initial experiments to upload, you will just\n",
    "# ask Daptics to generate the first design.\n",
    "daptics.generate_design()\n",
    "\n",
    "# Because the `auto_task_timeout` and `auto_generate_next_design`\n",
    "# options were set in the client, if either the `put_experiments_csv`\n",
    "# or `generate_design` methods were called, the Python script will\n",
    "# block here until the design for the first generation has completed.\n",
    "\n",
    "# Because the `auto_export_path` option was set, when the design\n",
    "# has been generated, it will have been saved into a CSV file at\n",
    "# `./output/auto_gen1_design.csv`, ready for your workflow software\n",
    "# to read.\n",
    "\n",
    "# Before this script exits, you must save the session id, generation\n",
    "# number and design file location, so that the automation software\n",
    "# can later read the design and reconnect to the session to upload\n",
    "# the results obtained by peforming the designed experiments.\n",
    "\n",
    "# The name of the automatically generated design file is constructed\n",
    "# using the pattern shown here.\n",
    "gen = daptics.gen\n",
    "csv_design_file = os.path.join(\n",
    "    output_path, 'auto_gen{}_design.csv'.format(gen))\n",
    "session_data = {\n",
    "    'session_id': daptics.session_id,\n",
    "    'gen': gen,\n",
    "    'csv_design_file': csv_design_file\n",
    "}\n",
    "\n",
    "## Save session data for re-opening session later\n",
    "with open(session_file, 'wt') as f:\n",
    "    json.dump(session_data, f)\n",
    "\n",
    "print('All done. Generation {} design is now available in output directory.'.format(gen))"
   ]
  },
  {
   "cell_type": "markdown",
   "metadata": {},
   "source": [
    "#### Check out the results<a class=\"tocSkip\">"
   ]
  },
  {
   "cell_type": "code",
   "execution_count": 37,
   "metadata": {},
   "outputs": [
    {
     "name": "stdout",
     "output_type": "stream",
     "text": [
      "auto_gen1_design.csv     auto_validated_space.csv session.json\r\n"
     ]
    }
   ],
   "source": [
    "!ls output"
   ]
  },
  {
   "cell_type": "code",
   "execution_count": 38,
   "metadata": {},
   "outputs": [],
   "source": [
    "gen1 = pandas.read_csv('output/auto_gen1_design.csv')"
   ]
  },
  {
   "cell_type": "code",
   "execution_count": 39,
   "metadata": {},
   "outputs": [
    {
     "data": {
      "text/html": [
       "<div>\n",
       "<style scoped>\n",
       "    .dataframe tbody tr th:only-of-type {\n",
       "        vertical-align: middle;\n",
       "    }\n",
       "\n",
       "    .dataframe tbody tr th {\n",
       "        vertical-align: top;\n",
       "    }\n",
       "\n",
       "    .dataframe thead th {\n",
       "        text-align: right;\n",
       "    }\n",
       "</style>\n",
       "<table border=\"1\" class=\"dataframe\">\n",
       "  <thead>\n",
       "    <tr style=\"text-align: right;\">\n",
       "      <th></th>\n",
       "      <th>param1</th>\n",
       "      <th>param2</th>\n",
       "      <th>param3</th>\n",
       "      <th>param4</th>\n",
       "      <th>param5</th>\n",
       "      <th>Response</th>\n",
       "    </tr>\n",
       "  </thead>\n",
       "  <tbody>\n",
       "    <tr>\n",
       "      <th>0</th>\n",
       "      <td>1</td>\n",
       "      <td>2</td>\n",
       "      <td>0</td>\n",
       "      <td>4</td>\n",
       "      <td>3</td>\n",
       "      <td>NaN</td>\n",
       "    </tr>\n",
       "    <tr>\n",
       "      <th>1</th>\n",
       "      <td>2</td>\n",
       "      <td>3</td>\n",
       "      <td>0</td>\n",
       "      <td>0</td>\n",
       "      <td>3</td>\n",
       "      <td>NaN</td>\n",
       "    </tr>\n",
       "    <tr>\n",
       "      <th>2</th>\n",
       "      <td>2</td>\n",
       "      <td>4</td>\n",
       "      <td>0</td>\n",
       "      <td>3</td>\n",
       "      <td>1</td>\n",
       "      <td>NaN</td>\n",
       "    </tr>\n",
       "    <tr>\n",
       "      <th>3</th>\n",
       "      <td>2</td>\n",
       "      <td>4</td>\n",
       "      <td>2</td>\n",
       "      <td>3</td>\n",
       "      <td>1</td>\n",
       "      <td>NaN</td>\n",
       "    </tr>\n",
       "    <tr>\n",
       "      <th>4</th>\n",
       "      <td>4</td>\n",
       "      <td>3</td>\n",
       "      <td>2</td>\n",
       "      <td>1</td>\n",
       "      <td>0</td>\n",
       "      <td>NaN</td>\n",
       "    </tr>\n",
       "  </tbody>\n",
       "</table>\n",
       "</div>"
      ],
      "text/plain": [
       "   param1  param2  param3  param4  param5  Response\n",
       "0       1       2       0       4       3       NaN\n",
       "1       2       3       0       0       3       NaN\n",
       "2       2       4       0       3       1       NaN\n",
       "3       2       4       2       3       1       NaN\n",
       "4       4       3       2       1       0       NaN"
      ]
     },
     "execution_count": 39,
     "metadata": {},
     "output_type": "execute_result"
    }
   ],
   "source": [
    "gen1.head()"
   ]
  },
  {
   "cell_type": "markdown",
   "metadata": {},
   "source": [
    "## In the Loop: Perform Experiments <a class=\"tocSkip\">\n",
    "\n",
    "After the initial design is generated, the automation workflow software\n",
    "will read the input parameters from the file `auto_gen1_design.csv`\n",
    "in the directory specified by the Python variable `output_path`.\n",
    "Each row in the CSV file represents a unique experiment, with the\n",
    "values specified for each input parameter in the column with the\n",
    "parameter's name.\n",
    "\n",
    "The workflow software must convert these input parameter names and\n",
    "values into an experimental workflow, mapping inputs to plate wells,\n",
    "pipetting appropriate reagents, performing incubation and\n",
    "filtration, etc., and finally conducting assays.\n",
    "The workflow software must also convert the assay results\n",
    "from each experiment into a single target number, called the\n",
    "experiment \"Response\". This is the number that the Daptics AI will optimize.\n",
    "\n",
    "The workflow software must add these responses to the Daptics-generated\n",
    "design file. The response to each experiment should be written into the `Response`\n",
    "column of the CSV file in the row that corresponds to the experiment.\n",
    "The CSV file is saved to the location specified in the `csv_experiments_file`\n",
    "Python variable: `./input/experiments.csv`.\n",
    "\n",
    "If you don't have real experimental results, you can run the next\n",
    "cell to create a valid experiments file, filled with random responses,\n",
    "at the `csv_experiments_file` location."
   ]
  },
  {
   "cell_type": "code",
   "execution_count": 40,
   "metadata": {},
   "outputs": [],
   "source": [
    "# Simulate experiments by filling in random responses.\n",
    "\n",
    "# This code expects that the `daptics` client is still connected\n",
    "# to the API and that the `session_data` variable has been\n",
    "# initialized or updated after the previous design generation.\n",
    "# If these variables are not set up, you will have to reconnect\n",
    "# to the API as in the next code cell below.\n",
    "\n",
    "# This client method returns the validated experimental\n",
    "# space for the session, as a Python `dict`.\n",
    "space = daptics.get_experimental_space()\n",
    "\n",
    "# The client's `design` attribute should contain the last\n",
    "# design generated:\n",
    "design = daptics.design"
   ]
  },
  {
   "cell_type": "code",
   "execution_count": 41,
   "metadata": {},
   "outputs": [
    {
     "data": {
      "text/plain": [
       "{'table': {'colHeaders': ['Name',\n",
       "   'Type',\n",
       "   'Value.1',\n",
       "   'Value.2',\n",
       "   'Value.3',\n",
       "   'Value.4',\n",
       "   'Value.5'],\n",
       "  'data': [['param1', 'numerical', '0', '1', '2', '3', '4'],\n",
       "   ['param2', 'numerical', '0', '1', '2', '3', '4'],\n",
       "   ['param3', 'numerical', '0', '1', '2', '3', '4'],\n",
       "   ['param4', 'numerical', '0', '1', '2', '3', '4'],\n",
       "   ['param5', 'numerical', '0', '1', '2', '3', '4']]},\n",
       " 'totalUnits': None,\n",
       " 'type': 'factorial'}"
      ]
     },
     "execution_count": 41,
     "metadata": {},
     "output_type": "execute_result"
    }
   ],
   "source": [
    "space"
   ]
  },
  {
   "cell_type": "code",
   "execution_count": 42,
   "metadata": {},
   "outputs": [
    {
     "data": {
      "text/plain": [
       "{'designRows': 120,\n",
       " 'gen': 1,\n",
       " 'hasResponses': False,\n",
       " 'table': {'colHeaders': ['param1',\n",
       "   'param2',\n",
       "   'param3',\n",
       "   'param4',\n",
       "   'param5',\n",
       "   'Response'],\n",
       "  'data': [['1', '2', '0', '4', '3', ''],\n",
       "   ['2', '3', '0', '0', '3', ''],\n",
       "   ['2', '4', '0', '3', '1', ''],\n",
       "   ['2', '4', '2', '3', '1', ''],\n",
       "   ['4', '3', '2', '1', '0', ''],\n",
       "   ['3', '2', '0', '2', '4', ''],\n",
       "   ['1', '2', '0', '4', '3', ''],\n",
       "   ['0', '4', '4', '1', '4', ''],\n",
       "   ['4', '4', '1', '2', '0', ''],\n",
       "   ['0', '3', '1', '4', '3', ''],\n",
       "   ['3', '4', '3', '3', '1', ''],\n",
       "   ['4', '4', '1', '2', '0', ''],\n",
       "   ['2', '3', '0', '0', '3', ''],\n",
       "   ['2', '4', '0', '3', '1', ''],\n",
       "   ['1', '3', '2', '0', '4', ''],\n",
       "   ['3', '2', '3', '3', '3', ''],\n",
       "   ['3', '3', '4', '0', '1', ''],\n",
       "   ['3', '4', '3', '3', '1', ''],\n",
       "   ['1', '2', '3', '1', '3', ''],\n",
       "   ['3', '4', '3', '3', '1', ''],\n",
       "   ['4', '3', '2', '1', '0', ''],\n",
       "   ['0', '2', '2', '1', '2', ''],\n",
       "   ['4', '3', '1', '2', '2', ''],\n",
       "   ['1', '1', '1', '4', '0', ''],\n",
       "   ['3', '4', '2', '1', '3', ''],\n",
       "   ['3', '4', '2', '1', '3', ''],\n",
       "   ['3', '1', '4', '0', '4', ''],\n",
       "   ['1', '2', '0', '4', '3', ''],\n",
       "   ['3', '3', '4', '0', '1', ''],\n",
       "   ['0', '1', '0', '2', '4', ''],\n",
       "   ['1', '2', '0', '4', '3', ''],\n",
       "   ['3', '4', '2', '4', '4', ''],\n",
       "   ['2', '4', '2', '3', '1', ''],\n",
       "   ['1', '0', '3', '2', '1', ''],\n",
       "   ['3', '1', '4', '0', '4', ''],\n",
       "   ['1', '3', '2', '0', '4', ''],\n",
       "   ['3', '2', '4', '4', '2', ''],\n",
       "   ['2', '4', '2', '3', '1', ''],\n",
       "   ['4', '0', '3', '2', '1', ''],\n",
       "   ['0', '3', '1', '4', '3', ''],\n",
       "   ['3', '4', '3', '3', '1', ''],\n",
       "   ['3', '4', '2', '4', '4', ''],\n",
       "   ['4', '1', '2', '0', '4', ''],\n",
       "   ['3', '4', '2', '4', '4', ''],\n",
       "   ['1', '2', '3', '1', '3', ''],\n",
       "   ['3', '2', '3', '3', '3', ''],\n",
       "   ['2', '1', '1', '4', '2', ''],\n",
       "   ['2', '0', '0', '3', '4', ''],\n",
       "   ['0', '4', '4', '1', '4', ''],\n",
       "   ['0', '3', '4', '3', '2', ''],\n",
       "   ['4', '3', '1', '2', '2', ''],\n",
       "   ['4', '3', '2', '1', '0', ''],\n",
       "   ['3', '3', '4', '0', '1', ''],\n",
       "   ['0', '2', '2', '1', '2', ''],\n",
       "   ['2', '0', '0', '3', '4', ''],\n",
       "   ['1', '1', '1', '4', '0', ''],\n",
       "   ['0', '3', '1', '4', '3', ''],\n",
       "   ['2', '1', '1', '4', '2', ''],\n",
       "   ['0', '4', '4', '1', '4', ''],\n",
       "   ['3', '0', '1', '0', '0', ''],\n",
       "   ['1', '3', '2', '0', '4', ''],\n",
       "   ['3', '4', '2', '4', '4', ''],\n",
       "   ['3', '2', '4', '4', '2', ''],\n",
       "   ['3', '2', '0', '2', '4', ''],\n",
       "   ['0', '1', '2', '3', '1', ''],\n",
       "   ['4', '3', '1', '2', '2', ''],\n",
       "   ['2', '1', '1', '4', '2', ''],\n",
       "   ['3', '0', '1', '0', '0', ''],\n",
       "   ['0', '4', '4', '1', '4', ''],\n",
       "   ['0', '3', '4', '3', '2', ''],\n",
       "   ['4', '0', '3', '2', '1', ''],\n",
       "   ['2', '0', '0', '3', '4', ''],\n",
       "   ['0', '1', '0', '2', '4', ''],\n",
       "   ['0', '3', '4', '3', '2', ''],\n",
       "   ['4', '0', '3', '2', '1', ''],\n",
       "   ['3', '2', '3', '3', '3', ''],\n",
       "   ['1', '2', '3', '1', '3', ''],\n",
       "   ['1', '2', '3', '1', '3', ''],\n",
       "   ['3', '4', '2', '1', '3', ''],\n",
       "   ['1', '0', '3', '2', '1', ''],\n",
       "   ['0', '2', '2', '1', '2', ''],\n",
       "   ['4', '1', '2', '0', '4', ''],\n",
       "   ['3', '1', '4', '0', '4', ''],\n",
       "   ['2', '3', '0', '0', '3', ''],\n",
       "   ['0', '3', '1', '4', '3', ''],\n",
       "   ['3', '1', '4', '0', '4', ''],\n",
       "   ['4', '3', '1', '2', '2', ''],\n",
       "   ['4', '1', '2', '0', '4', ''],\n",
       "   ['1', '3', '2', '0', '4', ''],\n",
       "   ['0', '1', '2', '3', '1', ''],\n",
       "   ['3', '2', '4', '4', '2', ''],\n",
       "   ['2', '1', '1', '4', '2', ''],\n",
       "   ['3', '0', '1', '0', '0', ''],\n",
       "   ['3', '2', '0', '2', '4', ''],\n",
       "   ['2', '0', '0', '3', '4', ''],\n",
       "   ['4', '3', '2', '1', '0', ''],\n",
       "   ['3', '4', '2', '1', '3', ''],\n",
       "   ['0', '1', '2', '3', '1', ''],\n",
       "   ['3', '2', '3', '3', '3', ''],\n",
       "   ['4', '0', '3', '2', '1', ''],\n",
       "   ['1', '0', '3', '2', '1', ''],\n",
       "   ['2', '4', '0', '3', '1', ''],\n",
       "   ['1', '1', '1', '4', '0', ''],\n",
       "   ['1', '0', '3', '2', '1', ''],\n",
       "   ['0', '1', '2', '3', '1', ''],\n",
       "   ['4', '4', '1', '2', '0', ''],\n",
       "   ['2', '3', '0', '0', '3', ''],\n",
       "   ['4', '4', '1', '2', '0', ''],\n",
       "   ['0', '3', '4', '3', '2', ''],\n",
       "   ['3', '0', '1', '0', '0', ''],\n",
       "   ['0', '2', '2', '1', '2', ''],\n",
       "   ['3', '3', '4', '0', '1', ''],\n",
       "   ['2', '4', '0', '3', '1', ''],\n",
       "   ['2', '4', '2', '3', '1', ''],\n",
       "   ['1', '1', '1', '4', '0', ''],\n",
       "   ['3', '2', '4', '4', '2', ''],\n",
       "   ['0', '1', '0', '2', '4', ''],\n",
       "   ['3', '2', '0', '2', '4', ''],\n",
       "   ['0', '1', '0', '2', '4', ''],\n",
       "   ['4', '1', '2', '0', '4', '']]},\n",
       " 'validated': True}"
      ]
     },
     "execution_count": 42,
     "metadata": {},
     "output_type": "execute_result"
    }
   ],
   "source": [
    "design"
   ]
  },
  {
   "cell_type": "code",
   "execution_count": null,
   "metadata": {},
   "outputs": [],
   "source": [
    "# Or you could construct the design from the data in the\n",
    "# `auto_genN_design.csv` file:\n",
    "import csv\n",
    "\n",
    "with open(session_data['csv_design_file'], newline='') as csvfile:\n",
    "    reader = csv.reader(csvfile)\n",
    "    col_headers = next(reader, [])\n",
    "    data = [row for row in reader]\n",
    "    design = {\n",
    "        'designRows': len(data),\n",
    "        'validated': True,\n",
    "        'hasResponses': False,\n",
    "        'gen': session_data['gen'],\n",
    "        'table': {\n",
    "            'colHeaders': col_headers,\n",
    "            'data': data\n",
    "        }\n",
    "    }"
   ]
  },
  {
   "cell_type": "code",
   "execution_count": 43,
   "metadata": {},
   "outputs": [],
   "source": [
    "# This client utility method merges random experimental\n",
    "# responses into the design, returning the merged\n",
    "# data as a Python `dict`.\n",
    "experiments = daptics.random_experiments_with_responses(space, design)"
   ]
  },
  {
   "cell_type": "code",
   "execution_count": 46,
   "metadata": {},
   "outputs": [
    {
     "data": {
      "text/plain": [
       "['experiment_with_random_response',\n",
       " 'random_experiments_with_responses',\n",
       " 'simulate_experiment_responses',\n",
       " 'simulate_experiment_responses_csv']"
      ]
     },
     "execution_count": 46,
     "metadata": {},
     "output_type": "execute_result"
    }
   ],
   "source": [
    "[ x for x in dir(daptics) if 'response' in x]"
   ]
  },
  {
   "cell_type": "code",
   "execution_count": 55,
   "metadata": {},
   "outputs": [
    {
     "data": {
      "text/plain": [
       "False"
      ]
     },
     "execution_count": 55,
     "metadata": {},
     "output_type": "execute_result"
    }
   ],
   "source": [
    "exp2==None"
   ]
  },
  {
   "cell_type": "code",
   "execution_count": 56,
   "metadata": {},
   "outputs": [
    {
     "data": {
      "text/plain": [
       "{'colHeaders': ['param1', 'param2', 'param3', 'param4', 'param5', 'Response'],\n",
       " 'data': [['1', '2', '0', '4', '3', '1.971'],\n",
       "  ['2', '3', '0', '0', '3', '1.223'],\n",
       "  ['2', '4', '0', '3', '1', '3.561'],\n",
       "  ['2', '4', '2', '3', '1', '3.984'],\n",
       "  ['4', '3', '2', '1', '0', '4.531'],\n",
       "  ['3', '2', '0', '2', '4', '0.603'],\n",
       "  ['1', '2', '0', '4', '3', '4.954'],\n",
       "  ['0', '4', '4', '1', '4', '1.631'],\n",
       "  ['4', '4', '1', '2', '0', '3.249'],\n",
       "  ['0', '3', '1', '4', '3', '1.000'],\n",
       "  ['3', '4', '3', '3', '1', '4.312'],\n",
       "  ['4', '4', '1', '2', '0', '2.637'],\n",
       "  ['2', '3', '0', '0', '3', '1.160'],\n",
       "  ['2', '4', '0', '3', '1', '3.695'],\n",
       "  ['1', '3', '2', '0', '4', '1.477'],\n",
       "  ['3', '2', '3', '3', '3', '0.473'],\n",
       "  ['3', '3', '4', '0', '1', '2.652'],\n",
       "  ['3', '4', '3', '3', '1', '2.845'],\n",
       "  ['1', '2', '3', '1', '3', '1.756'],\n",
       "  ['3', '4', '3', '3', '1', '3.512'],\n",
       "  ['4', '3', '2', '1', '0', '2.719'],\n",
       "  ['0', '2', '2', '1', '2', '0.577'],\n",
       "  ['4', '3', '1', '2', '2', '3.671'],\n",
       "  ['1', '1', '1', '4', '0', '0.939'],\n",
       "  ['3', '4', '2', '1', '3', '1.309'],\n",
       "  ['3', '4', '2', '1', '3', '3.190'],\n",
       "  ['3', '1', '4', '0', '4', '0.120'],\n",
       "  ['1', '2', '0', '4', '3', '2.470'],\n",
       "  ['3', '3', '4', '0', '1', '4.811'],\n",
       "  ['0', '1', '0', '2', '4', '1.409'],\n",
       "  ['1', '2', '0', '4', '3', '0.587'],\n",
       "  ['3', '4', '2', '4', '4', '4.900'],\n",
       "  ['2', '4', '2', '3', '1', '1.924'],\n",
       "  ['1', '0', '3', '2', '1', '2.001'],\n",
       "  ['3', '1', '4', '0', '4', '2.295'],\n",
       "  ['1', '3', '2', '0', '4', '4.589'],\n",
       "  ['3', '2', '4', '4', '2', '0.424'],\n",
       "  ['2', '4', '2', '3', '1', '3.611'],\n",
       "  ['4', '0', '3', '2', '1', '4.827'],\n",
       "  ['0', '3', '1', '4', '3', '1.217'],\n",
       "  ['3', '4', '3', '3', '1', '1.924'],\n",
       "  ['3', '4', '2', '4', '4', '3.146'],\n",
       "  ['4', '1', '2', '0', '4', '1.200'],\n",
       "  ['3', '4', '2', '4', '4', '2.766'],\n",
       "  ['1', '2', '3', '1', '3', '4.897'],\n",
       "  ['3', '2', '3', '3', '3', '1.682'],\n",
       "  ['2', '1', '1', '4', '2', '4.417'],\n",
       "  ['2', '0', '0', '3', '4', '4.608'],\n",
       "  ['0', '4', '4', '1', '4', '3.497'],\n",
       "  ['0', '3', '4', '3', '2', '0.531'],\n",
       "  ['4', '3', '1', '2', '2', '2.244'],\n",
       "  ['4', '3', '2', '1', '0', '3.888'],\n",
       "  ['3', '3', '4', '0', '1', '2.273'],\n",
       "  ['0', '2', '2', '1', '2', '3.984'],\n",
       "  ['2', '0', '0', '3', '4', '1.512'],\n",
       "  ['1', '1', '1', '4', '0', '3.841'],\n",
       "  ['0', '3', '1', '4', '3', '4.883'],\n",
       "  ['2', '1', '1', '4', '2', '1.551'],\n",
       "  ['0', '4', '4', '1', '4', '3.976'],\n",
       "  ['3', '0', '1', '0', '0', '3.460'],\n",
       "  ['1', '3', '2', '0', '4', '1.533'],\n",
       "  ['3', '4', '2', '4', '4', '2.918'],\n",
       "  ['3', '2', '4', '4', '2', '2.368'],\n",
       "  ['3', '2', '0', '2', '4', '2.778'],\n",
       "  ['0', '1', '2', '3', '1', '1.829'],\n",
       "  ['4', '3', '1', '2', '2', '2.388'],\n",
       "  ['2', '1', '1', '4', '2', '2.434'],\n",
       "  ['3', '0', '1', '0', '0', '0.385'],\n",
       "  ['0', '4', '4', '1', '4', '4.473'],\n",
       "  ['0', '3', '4', '3', '2', '3.462'],\n",
       "  ['4', '0', '3', '2', '1', '3.488'],\n",
       "  ['2', '0', '0', '3', '4', '1.552'],\n",
       "  ['0', '1', '0', '2', '4', '1.137'],\n",
       "  ['0', '3', '4', '3', '2', '1.144'],\n",
       "  ['4', '0', '3', '2', '1', '2.091'],\n",
       "  ['3', '2', '3', '3', '3', '0.943'],\n",
       "  ['1', '2', '3', '1', '3', '3.384'],\n",
       "  ['1', '2', '3', '1', '3', '0.288'],\n",
       "  ['3', '4', '2', '1', '3', '1.026'],\n",
       "  ['1', '0', '3', '2', '1', '0.928'],\n",
       "  ['0', '2', '2', '1', '2', '3.656'],\n",
       "  ['4', '1', '2', '0', '4', '3.760'],\n",
       "  ['3', '1', '4', '0', '4', '3.132'],\n",
       "  ['2', '3', '0', '0', '3', '2.115'],\n",
       "  ['0', '3', '1', '4', '3', '2.375'],\n",
       "  ['3', '1', '4', '0', '4', '0.858'],\n",
       "  ['4', '3', '1', '2', '2', '3.547'],\n",
       "  ['4', '1', '2', '0', '4', '3.913'],\n",
       "  ['1', '3', '2', '0', '4', '1.532'],\n",
       "  ['0', '1', '2', '3', '1', '4.902'],\n",
       "  ['3', '2', '4', '4', '2', '1.889'],\n",
       "  ['2', '1', '1', '4', '2', '2.116'],\n",
       "  ['3', '0', '1', '0', '0', '0.237'],\n",
       "  ['3', '2', '0', '2', '4', '4.985'],\n",
       "  ['2', '0', '0', '3', '4', '2.779'],\n",
       "  ['4', '3', '2', '1', '0', '0.302'],\n",
       "  ['3', '4', '2', '1', '3', '1.715'],\n",
       "  ['0', '1', '2', '3', '1', '1.851'],\n",
       "  ['3', '2', '3', '3', '3', '4.000'],\n",
       "  ['4', '0', '3', '2', '1', '2.066'],\n",
       "  ['1', '0', '3', '2', '1', '2.149'],\n",
       "  ['2', '4', '0', '3', '1', '1.019'],\n",
       "  ['1', '1', '1', '4', '0', '1.749'],\n",
       "  ['1', '0', '3', '2', '1', '3.416'],\n",
       "  ['0', '1', '2', '3', '1', '0.796'],\n",
       "  ['4', '4', '1', '2', '0', '4.919'],\n",
       "  ['2', '3', '0', '0', '3', '2.583'],\n",
       "  ['4', '4', '1', '2', '0', '3.882'],\n",
       "  ['0', '3', '4', '3', '2', '1.621'],\n",
       "  ['3', '0', '1', '0', '0', '0.588'],\n",
       "  ['0', '2', '2', '1', '2', '4.052'],\n",
       "  ['3', '3', '4', '0', '1', '2.838'],\n",
       "  ['2', '4', '0', '3', '1', '4.483'],\n",
       "  ['2', '4', '2', '3', '1', '2.110'],\n",
       "  ['1', '1', '1', '4', '0', '2.822'],\n",
       "  ['3', '2', '4', '4', '2', '3.547'],\n",
       "  ['0', '1', '0', '2', '4', '3.001'],\n",
       "  ['3', '2', '0', '2', '4', '2.620'],\n",
       "  ['0', '1', '0', '2', '4', '4.388'],\n",
       "  ['4', '1', '2', '0', '4', '4.641']]}"
      ]
     },
     "execution_count": 56,
     "metadata": {},
     "output_type": "execute_result"
    }
   ],
   "source": [
    "experiments"
   ]
  },
  {
   "cell_type": "markdown",
   "metadata": {},
   "source": [
    "The random experiments may be overwritten with results from the synthetic data generator:"
   ]
  },
  {
   "cell_type": "code",
   "execution_count": 57,
   "metadata": {},
   "outputs": [
    {
     "name": "stderr",
     "output_type": "stream",
     "text": [
      "/Users/n/.pyenv/versions/3.7.2/lib/python3.7/site-packages/urllib3/connectionpool.py:1004: InsecureRequestWarning: Unverified HTTPS request is being made to host 'api.daptics.ai'. Adding certificate verification is strongly advised. See: https://urllib3.readthedocs.io/en/latest/advanced-usage.html#ssl-warnings\n",
      "  InsecureRequestWarning,\n"
     ]
    }
   ],
   "source": [
    "exp2 = daptics.simulate_experiment_responses(experiments)"
   ]
  },
  {
   "cell_type": "code",
   "execution_count": null,
   "metadata": {},
   "outputs": [],
   "source": [
    "# Then use this client utility method to save the experiments\n",
    "# with random responses to location that will be used by the next code cell.\n",
    "daptics.export_csv(csv_experiments_file, experiments, True)\n",
    "\n",
    "print('Simulated random experiment responses saved.')"
   ]
  },
  {
   "cell_type": "markdown",
   "metadata": {},
   "source": [
    "## In the Loop: Design Next Generation<a class=\"tocSkip\">\n",
    "\n",
    "Once an experiments file has bee put into the `csv_experiments_file`\n",
    "locatoin, you can execute the next part of the Daptics process,\n",
    "simply uploading the experiments and their responses and generating the\n",
    "next design. To do so you must reconnect to the session using the\n",
    "`session_id` value saved previously. Once reconnected, the only\n",
    "API call necessary is to upload the experiments.\n",
    "\n",
    "When you run the next cell, you should see task retry progress\n",
    "messages, for the incorporation of the experiments into the\n",
    "model, and for the creation of the next generation design.\n",
    "These processes should take about a minute, but could take longer\n",
    "for more complicated experimental spaces."
   ]
  },
  {
   "cell_type": "code",
   "execution_count": null,
   "metadata": {},
   "outputs": [],
   "source": [
    "# Design the next generation by reading in the experiments\n",
    "# saved in the `csv_experiments_file`.\n",
    "\n",
    "# If you put this code into a separate script for your automation\n",
    "# workflow engine, make sure to include code from the first Python\n",
    "# cell in this tutorial that contains the imports and variables used\n",
    "# here.\n",
    "\n",
    "# To begin you reload the session data you saved when you generated\n",
    "# the previous design.\n",
    "with open(session_file, 'rt') as f:\n",
    "    session_data = json.load(f)\n",
    "\n",
    "# You follow the same connect and login procedure as for the first\n",
    "# design, then reconnect to your session.\n",
    "\n",
    "# Create a Python client instance, connecting to the beta API server.\n",
    "daptics = DapticsClient(api_host_url)\n",
    "\n",
    "# Set up the options that will fully automate client processing.\n",
    "daptics.options = auto_options\n",
    "\n",
    "# The 'connect' method will connect to the API server and obtain the\n",
    "# GraphQL schema.\n",
    "daptics.connect()\n",
    "\n",
    "# Log into the API using your Daptics account credentials.\n",
    "daptics.login(email, password)\n",
    "\n",
    "print('Reconnecting to session {}.'.format(session_data['session_id']))\n",
    "\n",
    "# Reconnect to the session after logging in. Here you rely\n",
    "# on the 'session_id' value saved in the session file.\n",
    "daptics.reconnect_session(session_data['session_id'])\n",
    "\n",
    "print('Uploading experiments and creating a design.')\n",
    "print('This may take a minute or more.')\n",
    "\n",
    "# Upload the experiments file that your automation workflow software\n",
    "# created, containing the previous design and the response values\n",
    "# for each experiment in the design.\n",
    "daptics.put_experiments_csv(\n",
    "    DapticsExperimentsType.DESIGNED_WITH_OPTIONAL_EXTRAS,\n",
    "    csv_experiments_file)\n",
    "\n",
    "# Because the `auto_task_timeout` and `auto_generate_next_design`\n",
    "# options were set in the client, the Python script will\n",
    "# block here until the design for the next generation has completed.\n",
    "\n",
    "# Because the `auto_export_path` option was set, when the design\n",
    "# has been generated, it will have been saved into a CSV file at\n",
    "# `./output/auto_genN_design.csv`, where `N` is the generation\n",
    "# number, ready for your workflow software to read.\n",
    "\n",
    "# Before this script exits, you again save the session id, generation\n",
    "# number and design file location, to make this updated information\n",
    "# available to the workflow software.\n",
    "\n",
    "# The name of the automatically generated design file is constructed\n",
    "# using the pattern shown here.\n",
    "gen = daptics.gen\n",
    "csv_design_file = os.path.join(\n",
    "    output_path, 'auto_gen{}_design.csv'.format(gen))\n",
    "session_data = {\n",
    "    'session_id': daptics.session_id,\n",
    "    'gen': gen,\n",
    "    'csv_design_file': csv_design_file\n",
    "}\n",
    "with open(session_file, 'wt') as f:\n",
    "    json.dump(session_data, f)\n",
    "\n",
    "print('Generation {} design is now available in output directory.'.format(gen))\n",
    "\n",
    "# Now the workflow software can read the design file, execute more\n",
    "# experiments, and continue the loop. You can exit the script now."
   ]
  },
  {
   "cell_type": "markdown",
   "metadata": {},
   "source": [
    "## Analytics <a class=\"tocSkip\">"
   ]
  },
  {
   "cell_type": "code",
   "execution_count": null,
   "metadata": {},
   "outputs": [],
   "source": [
    "# You can optionally generate analytics graphs at each step of\n",
    "# the loop. These PDF files can then be picked up by automation\n",
    "# software and included in your lab notebook, etc.\n",
    "\n",
    "print('Generating analytics files.')\n",
    "\n",
    "# Generate any analytics files that are available for this generation.\n",
    "# Since the `auto_task_timeout` option has been set, the script will\n",
    "# block until the files are ready to be downloaded.\n",
    "daptics.generate_analytics()\n",
    "\n",
    "print('Downloading analytics files.')\n",
    "\n",
    "# Fetch the PDF analytics files via authenticated HTTP, and save them\n",
    "# to the './output' directory, where your automation workflow\n",
    "# software can pick them up.\n",
    "daptics.download_all_analytics_files(daptics.analytics, output_path, name_by_gen=True)\n",
    "\n",
    "print('Generation {} analytics are now available in output directory.'.format(gen))"
   ]
  }
 ],
 "metadata": {
  "jupytext": {
   "formats": "ipynb,python//py:light"
  },
  "kernelspec": {
   "display_name": "Python3",
   "language": "python",
   "name": "python3"
  },
  "language_info": {
   "codemirror_mode": {
    "name": "ipython",
    "version": 3
   },
   "file_extension": ".py",
   "mimetype": "text/x-python",
   "name": "python",
   "nbconvert_exporter": "python",
   "pygments_lexer": "ipython3",
   "version": "3.7.2"
  },
  "toc": {
   "base_numbering": 1,
   "nav_menu": {},
   "number_sections": true,
   "sideBar": true,
   "skip_h1_title": false,
   "title_cell": "Table of Contents",
   "title_sidebar": "Contents",
   "toc_cell": false,
   "toc_position": {},
   "toc_section_display": true,
   "toc_window_display": true
  }
 },
 "nbformat": 4,
 "nbformat_minor": 2
}
